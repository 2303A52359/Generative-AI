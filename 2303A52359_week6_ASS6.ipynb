{
  "nbformat": 4,
  "nbformat_minor": 0,
  "metadata": {
    "colab": {
      "provenance": [],
      "authorship_tag": "ABX9TyNGUehTYECFSNuW0WU5GtXu",
      "include_colab_link": true
    },
    "kernelspec": {
      "name": "python3",
      "display_name": "Python 3"
    },
    "language_info": {
      "name": "python"
    }
  },
  "cells": [
    {
      "cell_type": "markdown",
      "metadata": {
        "id": "view-in-github",
        "colab_type": "text"
      },
      "source": [
        "<a href=\"https://colab.research.google.com/github/2303A52359/Generative-AI/blob/main/2303A52359_week6_ASS6.ipynb\" target=\"_parent\"><img src=\"https://colab.research.google.com/assets/colab-badge.svg\" alt=\"Open In Colab\"/></a>"
      ]
    },
    {
      "cell_type": "markdown",
      "source": [
        "1. (1 ponto) Design a multilayer ANN architecture according to the requirements shown below.\n",
        "Train, test, save (.h5) and deploy the model to predict the housing price using Keras deep\n",
        "learning library\n",
        "2. (1 ponto) Calculate training and testing error metrics\n",
        "3. (1 ponto) Build the application by loading the saved ANN model.\n",
        "Tabela 1: ANN Architecture\n",
        "Layer Neurons Activation Function\n",
        "Hidden Layer - 1 15 tanh\n",
        "Hidden Layer - 2 20 tanh\n",
        "Hidden Layer - 3 15 tanh\n",
        "Tabela 2: Training Parameters\n",
        "loss function epochs batch size error metric Optimizer\n",
        "Mean Square Error 100 16 Mean Square Error SGD\n",
        "Dataset: https://drive.google.com/file/d/1AcdENlVm5dccNyo_vgdMbneX8YVvH5R3/view?\n",
        "usp=sharing\n",
        "• Expected learning Outcomes from this assignment related to python\n",
        "– Students are able to build ANN model with python deep learning libraries\n",
        "– Students are able to deploy trained ANN model\n",
        "– Students are able to measure training and testing performance of trained model"
      ],
      "metadata": {
        "id": "9mdKyfF6eT0Q"
      }
    },
    {
      "cell_type": "code",
      "execution_count": 1,
      "metadata": {
        "id": "Pn2_fbh_ST9S"
      },
      "outputs": [],
      "source": [
        "import pandas as pd\n",
        "from sklearn.model_selection import train_test_split\n",
        "from sklearn.preprocessing import StandardScaler\n",
        "import numpy as np\n",
        "from sklearn.preprocessing import OneHotEncoder\n",
        "\n",
        "# Load dataset (Assuming CSV format after extracting from Google Drive)\n",
        "url = '/content/Housing.csv'  # Replace this with the actual dataset path\n",
        "df = pd.read_csv(url)\n",
        "\n",
        "# Split the dataset into input features and target variable (housing prices)\n",
        "X = df.drop('price', axis=1)  # Assuming 'price' is the target variable\n",
        "y = df['price']\n",
        "\n",
        "# Split the dataset into training and testing sets\n",
        "X_train, X_test, y_train, y_test = train_test_split(X, y, test_size=0.2, random_state=42)\n",
        "\n",
        "# Identify categorical features (columns with object dtype)\n",
        "categorical_features = X_train.select_dtypes(include=['object']).columns\n",
        "\n",
        "# Create and fit OneHotEncoder for categorical features\n",
        "encoder = OneHotEncoder(sparse_output=False, handle_unknown='ignore') # sparse=False for numpy array\n",
        "encoded_features_train = encoder.fit_transform(X_train[categorical_features])\n",
        "encoded_features_test = encoder.transform(X_test[categorical_features])\n",
        "\n",
        "# Create DataFrames for encoded features\n",
        "encoded_df_train = pd.DataFrame(encoded_features_train, columns=encoder.get_feature_names_out(categorical_features), index=X_train.index)\n",
        "encoded_df_test = pd.DataFrame(encoded_features_test, columns=encoder.get_feature_names_out(categorical_features), index=X_test.index)\n",
        "\n",
        "# Drop original categorical columns and concatenate encoded features\n",
        "X_train = X_train.drop(categorical_features, axis=1)\n",
        "X_test = X_test.drop(categorical_features, axis=1)\n",
        "X_train = pd.concat([X_train, encoded_df_train], axis=1)\n",
        "X_test = pd.concat([X_test, encoded_df_test], axis=1)\n",
        "\n",
        "\n",
        "# Normalize the data\n",
        "scaler = StandardScaler()\n",
        "X_train = scaler.fit_transform(X_train)\n",
        "X_test = scaler.transform(X_test)"
      ]
    },
    {
      "cell_type": "code",
      "source": [
        "from tensorflow.keras.models import Sequential\n",
        "from tensorflow.keras.layers import Dense\n",
        "from tensorflow.keras.optimizers import SGD\n",
        "from tensorflow.keras.metrics import MeanSquaredError\n",
        "\n",
        "# Define the ANN model\n",
        "model = Sequential()\n",
        "\n",
        "# Hidden Layer 1\n",
        "model.add(Dense(15, input_dim=X_train.shape[1], activation='tanh'))\n",
        "\n",
        "# Hidden Layer 2\n",
        "model.add(Dense(20, activation='tanh'))\n",
        "\n",
        "# Hidden Layer 3\n",
        "model.add(Dense(15, activation='tanh'))\n",
        "\n",
        "# Output layer (Assuming it's a regression problem, one neuron for price prediction)\n",
        "model.add(Dense(1))\n",
        "\n",
        "# Compile the model\n",
        "model.compile(loss='mean_squared_error',\n",
        "              optimizer=SGD(),\n",
        "              metrics=[MeanSquaredError()])\n"
      ],
      "metadata": {
        "colab": {
          "base_uri": "https://localhost:8080/"
        },
        "id": "2zzF63M4co3X",
        "outputId": "de4030e7-b3d5-47fc-a0f2-1314ce361b7f"
      },
      "execution_count": 2,
      "outputs": [
        {
          "output_type": "stream",
          "name": "stderr",
          "text": [
            "/usr/local/lib/python3.11/dist-packages/keras/src/layers/core/dense.py:87: UserWarning: Do not pass an `input_shape`/`input_dim` argument to a layer. When using Sequential models, prefer using an `Input(shape)` object as the first layer in the model instead.\n",
            "  super().__init__(activity_regularizer=activity_regularizer, **kwargs)\n"
          ]
        }
      ]
    },
    {
      "cell_type": "code",
      "source": [
        "# Train the model\n",
        "history = model.fit(X_train, y_train,\n",
        "                    epochs=100,\n",
        "                    batch_size=16,\n",
        "                    validation_data=(X_test, y_test))\n"
      ],
      "metadata": {
        "colab": {
          "base_uri": "https://localhost:8080/"
        },
        "id": "mxFN3qJwcr5_",
        "outputId": "bebc41f2-2686-47c5-8599-7d8638e4bc3a"
      },
      "execution_count": 3,
      "outputs": [
        {
          "output_type": "stream",
          "name": "stdout",
          "text": [
            "Epoch 1/100\n",
            "\u001b[1m28/28\u001b[0m \u001b[32m━━━━━━━━━━━━━━━━━━━━\u001b[0m\u001b[37m\u001b[0m \u001b[1m1s\u001b[0m 11ms/step - loss: 10848288374784.0000 - mean_squared_error: 10848288374784.0000 - val_loss: 5210066386944.0000 - val_mean_squared_error: 5210066386944.0000\n",
            "Epoch 2/100\n",
            "\u001b[1m28/28\u001b[0m \u001b[32m━━━━━━━━━━━━━━━━━━━━\u001b[0m\u001b[37m\u001b[0m \u001b[1m0s\u001b[0m 4ms/step - loss: 3319698817024.0000 - mean_squared_error: 3319698817024.0000 - val_loss: 5323095015424.0000 - val_mean_squared_error: 5323095015424.0000\n",
            "Epoch 3/100\n",
            "\u001b[1m28/28\u001b[0m \u001b[32m━━━━━━━━━━━━━━━━━━━━\u001b[0m\u001b[37m\u001b[0m \u001b[1m0s\u001b[0m 6ms/step - loss: 3731467534336.0000 - mean_squared_error: 3731467534336.0000 - val_loss: 5689002426368.0000 - val_mean_squared_error: 5689002426368.0000\n",
            "Epoch 4/100\n",
            "\u001b[1m28/28\u001b[0m \u001b[32m━━━━━━━━━━━━━━━━━━━━\u001b[0m\u001b[37m\u001b[0m \u001b[1m0s\u001b[0m 4ms/step - loss: 3332923457536.0000 - mean_squared_error: 3332923457536.0000 - val_loss: 5117080240128.0000 - val_mean_squared_error: 5117080240128.0000\n",
            "Epoch 5/100\n",
            "\u001b[1m28/28\u001b[0m \u001b[32m━━━━━━━━━━━━━━━━━━━━\u001b[0m\u001b[37m\u001b[0m \u001b[1m0s\u001b[0m 4ms/step - loss: 3208200060928.0000 - mean_squared_error: 3208200060928.0000 - val_loss: 5081567592448.0000 - val_mean_squared_error: 5081567592448.0000\n",
            "Epoch 6/100\n",
            "\u001b[1m28/28\u001b[0m \u001b[32m━━━━━━━━━━━━━━━━━━━━\u001b[0m\u001b[37m\u001b[0m \u001b[1m0s\u001b[0m 4ms/step - loss: 3358647648256.0000 - mean_squared_error: 3358647648256.0000 - val_loss: 5764265017344.0000 - val_mean_squared_error: 5764265017344.0000\n",
            "Epoch 7/100\n",
            "\u001b[1m28/28\u001b[0m \u001b[32m━━━━━━━━━━━━━━━━━━━━\u001b[0m\u001b[37m\u001b[0m \u001b[1m0s\u001b[0m 4ms/step - loss: 3338095034368.0000 - mean_squared_error: 3338095034368.0000 - val_loss: 5131048845312.0000 - val_mean_squared_error: 5131048845312.0000\n",
            "Epoch 8/100\n",
            "\u001b[1m28/28\u001b[0m \u001b[32m━━━━━━━━━━━━━━━━━━━━\u001b[0m\u001b[37m\u001b[0m \u001b[1m0s\u001b[0m 4ms/step - loss: 2911358418944.0000 - mean_squared_error: 2911358418944.0000 - val_loss: 5069420363776.0000 - val_mean_squared_error: 5069420363776.0000\n",
            "Epoch 9/100\n",
            "\u001b[1m28/28\u001b[0m \u001b[32m━━━━━━━━━━━━━━━━━━━━\u001b[0m\u001b[37m\u001b[0m \u001b[1m0s\u001b[0m 4ms/step - loss: 3707021033472.0000 - mean_squared_error: 3707021033472.0000 - val_loss: 5908055195648.0000 - val_mean_squared_error: 5908055195648.0000\n",
            "Epoch 10/100\n",
            "\u001b[1m28/28\u001b[0m \u001b[32m━━━━━━━━━━━━━━━━━━━━\u001b[0m\u001b[37m\u001b[0m \u001b[1m0s\u001b[0m 5ms/step - loss: 3458756247552.0000 - mean_squared_error: 3458756247552.0000 - val_loss: 5295017295872.0000 - val_mean_squared_error: 5295017295872.0000\n",
            "Epoch 11/100\n",
            "\u001b[1m28/28\u001b[0m \u001b[32m━━━━━━━━━━━━━━━━━━━━\u001b[0m\u001b[37m\u001b[0m \u001b[1m0s\u001b[0m 10ms/step - loss: 3389692051456.0000 - mean_squared_error: 3389692051456.0000 - val_loss: 5362676662272.0000 - val_mean_squared_error: 5362676662272.0000\n",
            "Epoch 12/100\n",
            "\u001b[1m28/28\u001b[0m \u001b[32m━━━━━━━━━━━━━━━━━━━━\u001b[0m\u001b[37m\u001b[0m \u001b[1m1s\u001b[0m 11ms/step - loss: 2833666277376.0000 - mean_squared_error: 2833666277376.0000 - val_loss: 5054633345024.0000 - val_mean_squared_error: 5054633345024.0000\n",
            "Epoch 13/100\n",
            "\u001b[1m28/28\u001b[0m \u001b[32m━━━━━━━━━━━━━━━━━━━━\u001b[0m\u001b[37m\u001b[0m \u001b[1m1s\u001b[0m 17ms/step - loss: 3086414512128.0000 - mean_squared_error: 3086414512128.0000 - val_loss: 5148052553728.0000 - val_mean_squared_error: 5148052553728.0000\n",
            "Epoch 14/100\n",
            "\u001b[1m28/28\u001b[0m \u001b[32m━━━━━━━━━━━━━━━━━━━━\u001b[0m\u001b[37m\u001b[0m \u001b[1m0s\u001b[0m 10ms/step - loss: 3116126961664.0000 - mean_squared_error: 3116126961664.0000 - val_loss: 5129471787008.0000 - val_mean_squared_error: 5129471787008.0000\n",
            "Epoch 15/100\n",
            "\u001b[1m28/28\u001b[0m \u001b[32m━━━━━━━━━━━━━━━━━━━━\u001b[0m\u001b[37m\u001b[0m \u001b[1m1s\u001b[0m 19ms/step - loss: 3114012508160.0000 - mean_squared_error: 3114012508160.0000 - val_loss: 5423419097088.0000 - val_mean_squared_error: 5423419097088.0000\n",
            "Epoch 16/100\n",
            "\u001b[1m28/28\u001b[0m \u001b[32m━━━━━━━━━━━━━━━━━━━━\u001b[0m\u001b[37m\u001b[0m \u001b[1m1s\u001b[0m 25ms/step - loss: 3015714275328.0000 - mean_squared_error: 3015714275328.0000 - val_loss: 5253776801792.0000 - val_mean_squared_error: 5253776801792.0000\n",
            "Epoch 17/100\n",
            "\u001b[1m28/28\u001b[0m \u001b[32m━━━━━━━━━━━━━━━━━━━━\u001b[0m\u001b[37m\u001b[0m \u001b[1m1s\u001b[0m 20ms/step - loss: 3253746532352.0000 - mean_squared_error: 3253746532352.0000 - val_loss: 5168158474240.0000 - val_mean_squared_error: 5168158474240.0000\n",
            "Epoch 18/100\n",
            "\u001b[1m28/28\u001b[0m \u001b[32m━━━━━━━━━━━━━━━━━━━━\u001b[0m\u001b[37m\u001b[0m \u001b[1m0s\u001b[0m 13ms/step - loss: 3355626176512.0000 - mean_squared_error: 3355626176512.0000 - val_loss: 5179272855552.0000 - val_mean_squared_error: 5179272855552.0000\n",
            "Epoch 19/100\n",
            "\u001b[1m28/28\u001b[0m \u001b[32m━━━━━━━━━━━━━━━━━━━━\u001b[0m\u001b[37m\u001b[0m \u001b[1m1s\u001b[0m 15ms/step - loss: 2949442174976.0000 - mean_squared_error: 2949442174976.0000 - val_loss: 5067655086080.0000 - val_mean_squared_error: 5067655086080.0000\n",
            "Epoch 20/100\n",
            "\u001b[1m28/28\u001b[0m \u001b[32m━━━━━━━━━━━━━━━━━━━━\u001b[0m\u001b[37m\u001b[0m \u001b[1m1s\u001b[0m 16ms/step - loss: 3014588104704.0000 - mean_squared_error: 3014588104704.0000 - val_loss: 5083720318976.0000 - val_mean_squared_error: 5083720318976.0000\n",
            "Epoch 21/100\n",
            "\u001b[1m28/28\u001b[0m \u001b[32m━━━━━━━━━━━━━━━━━━━━\u001b[0m\u001b[37m\u001b[0m \u001b[1m1s\u001b[0m 17ms/step - loss: 3195088142336.0000 - mean_squared_error: 3195088142336.0000 - val_loss: 5422083211264.0000 - val_mean_squared_error: 5422083211264.0000\n",
            "Epoch 22/100\n",
            "\u001b[1m28/28\u001b[0m \u001b[32m━━━━━━━━━━━━━━━━━━━━\u001b[0m\u001b[37m\u001b[0m \u001b[1m0s\u001b[0m 12ms/step - loss: 3134660018176.0000 - mean_squared_error: 3134660018176.0000 - val_loss: 5309541122048.0000 - val_mean_squared_error: 5309541122048.0000\n",
            "Epoch 23/100\n",
            "\u001b[1m28/28\u001b[0m \u001b[32m━━━━━━━━━━━━━━━━━━━━\u001b[0m\u001b[37m\u001b[0m \u001b[1m1s\u001b[0m 17ms/step - loss: 3063612702720.0000 - mean_squared_error: 3063612702720.0000 - val_loss: 5505011417088.0000 - val_mean_squared_error: 5505011417088.0000\n",
            "Epoch 24/100\n",
            "\u001b[1m28/28\u001b[0m \u001b[32m━━━━━━━━━━━━━━━━━━━━\u001b[0m\u001b[37m\u001b[0m \u001b[1m0s\u001b[0m 12ms/step - loss: 2896317120512.0000 - mean_squared_error: 2896317120512.0000 - val_loss: 5255784824832.0000 - val_mean_squared_error: 5255784824832.0000\n",
            "Epoch 25/100\n",
            "\u001b[1m28/28\u001b[0m \u001b[32m━━━━━━━━━━━━━━━━━━━━\u001b[0m\u001b[37m\u001b[0m \u001b[1m1s\u001b[0m 9ms/step - loss: 3080053063680.0000 - mean_squared_error: 3080053063680.0000 - val_loss: 5058054848512.0000 - val_mean_squared_error: 5058054848512.0000\n",
            "Epoch 26/100\n",
            "\u001b[1m28/28\u001b[0m \u001b[32m━━━━━━━━━━━━━━━━━━━━\u001b[0m\u001b[37m\u001b[0m \u001b[1m1s\u001b[0m 11ms/step - loss: 3593525526528.0000 - mean_squared_error: 3593525526528.0000 - val_loss: 5557913124864.0000 - val_mean_squared_error: 5557913124864.0000\n",
            "Epoch 27/100\n",
            "\u001b[1m28/28\u001b[0m \u001b[32m━━━━━━━━━━━━━━━━━━━━\u001b[0m\u001b[37m\u001b[0m \u001b[1m1s\u001b[0m 9ms/step - loss: 3293794533376.0000 - mean_squared_error: 3293794533376.0000 - val_loss: 5054700978176.0000 - val_mean_squared_error: 5054700978176.0000\n",
            "Epoch 28/100\n",
            "\u001b[1m28/28\u001b[0m \u001b[32m━━━━━━━━━━━━━━━━━━━━\u001b[0m\u001b[37m\u001b[0m \u001b[1m0s\u001b[0m 4ms/step - loss: 3150187069440.0000 - mean_squared_error: 3150187069440.0000 - val_loss: 5144946671616.0000 - val_mean_squared_error: 5144946671616.0000\n",
            "Epoch 29/100\n",
            "\u001b[1m28/28\u001b[0m \u001b[32m━━━━━━━━━━━━━━━━━━━━\u001b[0m\u001b[37m\u001b[0m \u001b[1m0s\u001b[0m 4ms/step - loss: 2902317334528.0000 - mean_squared_error: 2902317334528.0000 - val_loss: 5156134977536.0000 - val_mean_squared_error: 5156134977536.0000\n",
            "Epoch 30/100\n",
            "\u001b[1m28/28\u001b[0m \u001b[32m━━━━━━━━━━━━━━━━━━━━\u001b[0m\u001b[37m\u001b[0m \u001b[1m0s\u001b[0m 5ms/step - loss: 3003618164736.0000 - mean_squared_error: 3003618164736.0000 - val_loss: 5323494522880.0000 - val_mean_squared_error: 5323494522880.0000\n",
            "Epoch 31/100\n",
            "\u001b[1m28/28\u001b[0m \u001b[32m━━━━━━━━━━━━━━━━━━━━\u001b[0m\u001b[37m\u001b[0m \u001b[1m0s\u001b[0m 6ms/step - loss: 2984934375424.0000 - mean_squared_error: 2984934375424.0000 - val_loss: 5500287582208.0000 - val_mean_squared_error: 5500287582208.0000\n",
            "Epoch 32/100\n",
            "\u001b[1m28/28\u001b[0m \u001b[32m━━━━━━━━━━━━━━━━━━━━\u001b[0m\u001b[37m\u001b[0m \u001b[1m0s\u001b[0m 4ms/step - loss: 2947666935808.0000 - mean_squared_error: 2947666935808.0000 - val_loss: 5118429233152.0000 - val_mean_squared_error: 5118429233152.0000\n",
            "Epoch 33/100\n",
            "\u001b[1m28/28\u001b[0m \u001b[32m━━━━━━━━━━━━━━━━━━━━\u001b[0m\u001b[37m\u001b[0m \u001b[1m0s\u001b[0m 4ms/step - loss: 2947023634432.0000 - mean_squared_error: 2947023634432.0000 - val_loss: 5150534008832.0000 - val_mean_squared_error: 5150534008832.0000\n",
            "Epoch 34/100\n",
            "\u001b[1m28/28\u001b[0m \u001b[32m━━━━━━━━━━━━━━━━━━━━\u001b[0m\u001b[37m\u001b[0m \u001b[1m0s\u001b[0m 6ms/step - loss: 3036426797056.0000 - mean_squared_error: 3036426797056.0000 - val_loss: 5331135496192.0000 - val_mean_squared_error: 5331135496192.0000\n",
            "Epoch 35/100\n",
            "\u001b[1m28/28\u001b[0m \u001b[32m━━━━━━━━━━━━━━━━━━━━\u001b[0m\u001b[37m\u001b[0m \u001b[1m0s\u001b[0m 4ms/step - loss: 3256706400256.0000 - mean_squared_error: 3256706400256.0000 - val_loss: 5063797374976.0000 - val_mean_squared_error: 5063797374976.0000\n",
            "Epoch 36/100\n",
            "\u001b[1m28/28\u001b[0m \u001b[32m━━━━━━━━━━━━━━━━━━━━\u001b[0m\u001b[37m\u001b[0m \u001b[1m0s\u001b[0m 4ms/step - loss: 2924700499968.0000 - mean_squared_error: 2924700499968.0000 - val_loss: 5433412550656.0000 - val_mean_squared_error: 5433412550656.0000\n",
            "Epoch 37/100\n",
            "\u001b[1m28/28\u001b[0m \u001b[32m━━━━━━━━━━━━━━━━━━━━\u001b[0m\u001b[37m\u001b[0m \u001b[1m0s\u001b[0m 6ms/step - loss: 3103167873024.0000 - mean_squared_error: 3103167873024.0000 - val_loss: 5160098594816.0000 - val_mean_squared_error: 5160098594816.0000\n",
            "Epoch 38/100\n",
            "\u001b[1m28/28\u001b[0m \u001b[32m━━━━━━━━━━━━━━━━━━━━\u001b[0m\u001b[37m\u001b[0m \u001b[1m0s\u001b[0m 5ms/step - loss: 3468655591424.0000 - mean_squared_error: 3468655591424.0000 - val_loss: 5178550386688.0000 - val_mean_squared_error: 5178550386688.0000\n",
            "Epoch 39/100\n",
            "\u001b[1m28/28\u001b[0m \u001b[32m━━━━━━━━━━━━━━━━━━━━\u001b[0m\u001b[37m\u001b[0m \u001b[1m0s\u001b[0m 5ms/step - loss: 3082280239104.0000 - mean_squared_error: 3082280239104.0000 - val_loss: 5083580858368.0000 - val_mean_squared_error: 5083580858368.0000\n",
            "Epoch 40/100\n",
            "\u001b[1m28/28\u001b[0m \u001b[32m━━━━━━━━━━━━━━━━━━━━\u001b[0m\u001b[37m\u001b[0m \u001b[1m0s\u001b[0m 4ms/step - loss: 2715557822464.0000 - mean_squared_error: 2715557822464.0000 - val_loss: 5112560353280.0000 - val_mean_squared_error: 5112560353280.0000\n",
            "Epoch 41/100\n",
            "\u001b[1m28/28\u001b[0m \u001b[32m━━━━━━━━━━━━━━━━━━━━\u001b[0m\u001b[37m\u001b[0m \u001b[1m0s\u001b[0m 4ms/step - loss: 3001080348672.0000 - mean_squared_error: 3001080348672.0000 - val_loss: 5219794550784.0000 - val_mean_squared_error: 5219794550784.0000\n",
            "Epoch 42/100\n",
            "\u001b[1m28/28\u001b[0m \u001b[32m━━━━━━━━━━━━━━━━━━━━\u001b[0m\u001b[37m\u001b[0m \u001b[1m0s\u001b[0m 4ms/step - loss: 2851403202560.0000 - mean_squared_error: 2851403202560.0000 - val_loss: 5068942213120.0000 - val_mean_squared_error: 5068942213120.0000\n",
            "Epoch 43/100\n",
            "\u001b[1m28/28\u001b[0m \u001b[32m━━━━━━━━━━━━━━━━━━━━\u001b[0m\u001b[37m\u001b[0m \u001b[1m0s\u001b[0m 4ms/step - loss: 2731484905472.0000 - mean_squared_error: 2731484905472.0000 - val_loss: 5440508264448.0000 - val_mean_squared_error: 5440508264448.0000\n",
            "Epoch 44/100\n",
            "\u001b[1m28/28\u001b[0m \u001b[32m━━━━━━━━━━━━━━━━━━━━\u001b[0m\u001b[37m\u001b[0m \u001b[1m0s\u001b[0m 5ms/step - loss: 3092680278016.0000 - mean_squared_error: 3092680278016.0000 - val_loss: 5066980327424.0000 - val_mean_squared_error: 5066980327424.0000\n",
            "Epoch 45/100\n",
            "\u001b[1m28/28\u001b[0m \u001b[32m━━━━━━━━━━━━━━━━━━━━\u001b[0m\u001b[37m\u001b[0m \u001b[1m0s\u001b[0m 4ms/step - loss: 3300290985984.0000 - mean_squared_error: 3300290985984.0000 - val_loss: 5249879769088.0000 - val_mean_squared_error: 5249879769088.0000\n",
            "Epoch 46/100\n",
            "\u001b[1m28/28\u001b[0m \u001b[32m━━━━━━━━━━━━━━━━━━━━\u001b[0m\u001b[37m\u001b[0m \u001b[1m0s\u001b[0m 4ms/step - loss: 3091048955904.0000 - mean_squared_error: 3091048955904.0000 - val_loss: 5512935505920.0000 - val_mean_squared_error: 5512935505920.0000\n",
            "Epoch 47/100\n",
            "\u001b[1m28/28\u001b[0m \u001b[32m━━━━━━━━━━━━━━━━━━━━\u001b[0m\u001b[37m\u001b[0m \u001b[1m0s\u001b[0m 7ms/step - loss: 3599913713664.0000 - mean_squared_error: 3599913713664.0000 - val_loss: 5056354058240.0000 - val_mean_squared_error: 5056354058240.0000\n",
            "Epoch 48/100\n",
            "\u001b[1m28/28\u001b[0m \u001b[32m━━━━━━━━━━━━━━━━━━━━\u001b[0m\u001b[37m\u001b[0m \u001b[1m0s\u001b[0m 8ms/step - loss: 3142167298048.0000 - mean_squared_error: 3142167298048.0000 - val_loss: 5075759529984.0000 - val_mean_squared_error: 5075759529984.0000\n",
            "Epoch 49/100\n",
            "\u001b[1m28/28\u001b[0m \u001b[32m━━━━━━━━━━━━━━━━━━━━\u001b[0m\u001b[37m\u001b[0m \u001b[1m0s\u001b[0m 6ms/step - loss: 2790668632064.0000 - mean_squared_error: 2790668632064.0000 - val_loss: 5060153573376.0000 - val_mean_squared_error: 5060153573376.0000\n",
            "Epoch 50/100\n",
            "\u001b[1m28/28\u001b[0m \u001b[32m━━━━━━━━━━━━━━━━━━━━\u001b[0m\u001b[37m\u001b[0m \u001b[1m0s\u001b[0m 6ms/step - loss: 3129504694272.0000 - mean_squared_error: 3129504694272.0000 - val_loss: 5054571479040.0000 - val_mean_squared_error: 5054571479040.0000\n",
            "Epoch 51/100\n",
            "\u001b[1m28/28\u001b[0m \u001b[32m━━━━━━━━━━━━━━━━━━━━\u001b[0m\u001b[37m\u001b[0m \u001b[1m0s\u001b[0m 8ms/step - loss: 3653078614016.0000 - mean_squared_error: 3653078614016.0000 - val_loss: 5138182307840.0000 - val_mean_squared_error: 5138182307840.0000\n",
            "Epoch 52/100\n",
            "\u001b[1m28/28\u001b[0m \u001b[32m━━━━━━━━━━━━━━━━━━━━\u001b[0m\u001b[37m\u001b[0m \u001b[1m0s\u001b[0m 8ms/step - loss: 3405480722432.0000 - mean_squared_error: 3405480722432.0000 - val_loss: 5468845506560.0000 - val_mean_squared_error: 5468845506560.0000\n",
            "Epoch 53/100\n",
            "\u001b[1m28/28\u001b[0m \u001b[32m━━━━━━━━━━━━━━━━━━━━\u001b[0m\u001b[37m\u001b[0m \u001b[1m0s\u001b[0m 7ms/step - loss: 3437453115392.0000 - mean_squared_error: 3437453115392.0000 - val_loss: 5518573174784.0000 - val_mean_squared_error: 5518573174784.0000\n",
            "Epoch 54/100\n",
            "\u001b[1m28/28\u001b[0m \u001b[32m━━━━━━━━━━━━━━━━━━━━\u001b[0m\u001b[37m\u001b[0m \u001b[1m0s\u001b[0m 7ms/step - loss: 2840918753280.0000 - mean_squared_error: 2840918753280.0000 - val_loss: 5255569866752.0000 - val_mean_squared_error: 5255569866752.0000\n",
            "Epoch 55/100\n",
            "\u001b[1m28/28\u001b[0m \u001b[32m━━━━━━━━━━━━━━━━━━━━\u001b[0m\u001b[37m\u001b[0m \u001b[1m0s\u001b[0m 5ms/step - loss: 3553879916544.0000 - mean_squared_error: 3553879916544.0000 - val_loss: 5364805271552.0000 - val_mean_squared_error: 5364805271552.0000\n",
            "Epoch 56/100\n",
            "\u001b[1m28/28\u001b[0m \u001b[32m━━━━━━━━━━━━━━━━━━━━\u001b[0m\u001b[37m\u001b[0m \u001b[1m0s\u001b[0m 4ms/step - loss: 2696900771840.0000 - mean_squared_error: 2696900771840.0000 - val_loss: 5089869692928.0000 - val_mean_squared_error: 5089869692928.0000\n",
            "Epoch 57/100\n",
            "\u001b[1m28/28\u001b[0m \u001b[32m━━━━━━━━━━━━━━━━━━━━\u001b[0m\u001b[37m\u001b[0m \u001b[1m0s\u001b[0m 5ms/step - loss: 3008043417600.0000 - mean_squared_error: 3008043417600.0000 - val_loss: 5354165370880.0000 - val_mean_squared_error: 5354165370880.0000\n",
            "Epoch 58/100\n",
            "\u001b[1m28/28\u001b[0m \u001b[32m━━━━━━━━━━━━━━━━━━━━\u001b[0m\u001b[37m\u001b[0m \u001b[1m0s\u001b[0m 4ms/step - loss: 3153470947328.0000 - mean_squared_error: 3153470947328.0000 - val_loss: 5247892717568.0000 - val_mean_squared_error: 5247892717568.0000\n",
            "Epoch 59/100\n",
            "\u001b[1m28/28\u001b[0m \u001b[32m━━━━━━━━━━━━━━━━━━━━\u001b[0m\u001b[37m\u001b[0m \u001b[1m0s\u001b[0m 6ms/step - loss: 2925194117120.0000 - mean_squared_error: 2925194117120.0000 - val_loss: 5557344272384.0000 - val_mean_squared_error: 5557344272384.0000\n",
            "Epoch 60/100\n",
            "\u001b[1m28/28\u001b[0m \u001b[32m━━━━━━━━━━━━━━━━━━━━\u001b[0m\u001b[37m\u001b[0m \u001b[1m0s\u001b[0m 4ms/step - loss: 2857397125120.0000 - mean_squared_error: 2857397125120.0000 - val_loss: 5269341863936.0000 - val_mean_squared_error: 5269341863936.0000\n",
            "Epoch 61/100\n",
            "\u001b[1m28/28\u001b[0m \u001b[32m━━━━━━━━━━━━━━━━━━━━\u001b[0m\u001b[37m\u001b[0m \u001b[1m0s\u001b[0m 4ms/step - loss: 3066007388160.0000 - mean_squared_error: 3066007388160.0000 - val_loss: 5408752664576.0000 - val_mean_squared_error: 5408752664576.0000\n",
            "Epoch 62/100\n",
            "\u001b[1m28/28\u001b[0m \u001b[32m━━━━━━━━━━━━━━━━━━━━\u001b[0m\u001b[37m\u001b[0m \u001b[1m0s\u001b[0m 4ms/step - loss: 2911642583040.0000 - mean_squared_error: 2911642583040.0000 - val_loss: 5506176385024.0000 - val_mean_squared_error: 5506176385024.0000\n",
            "Epoch 63/100\n",
            "\u001b[1m28/28\u001b[0m \u001b[32m━━━━━━━━━━━━━━━━━━━━\u001b[0m\u001b[37m\u001b[0m \u001b[1m0s\u001b[0m 4ms/step - loss: 2908492660736.0000 - mean_squared_error: 2908492660736.0000 - val_loss: 5308307472384.0000 - val_mean_squared_error: 5308307472384.0000\n",
            "Epoch 64/100\n",
            "\u001b[1m28/28\u001b[0m \u001b[32m━━━━━━━━━━━━━━━━━━━━\u001b[0m\u001b[37m\u001b[0m \u001b[1m0s\u001b[0m 4ms/step - loss: 3021664157696.0000 - mean_squared_error: 3021664157696.0000 - val_loss: 5121761607680.0000 - val_mean_squared_error: 5121761607680.0000\n",
            "Epoch 65/100\n",
            "\u001b[1m28/28\u001b[0m \u001b[32m━━━━━━━━━━━━━━━━━━━━\u001b[0m\u001b[37m\u001b[0m \u001b[1m0s\u001b[0m 4ms/step - loss: 3283854295040.0000 - mean_squared_error: 3283854295040.0000 - val_loss: 5097044049920.0000 - val_mean_squared_error: 5097044049920.0000\n",
            "Epoch 66/100\n",
            "\u001b[1m28/28\u001b[0m \u001b[32m━━━━━━━━━━━━━━━━━━━━\u001b[0m\u001b[37m\u001b[0m \u001b[1m0s\u001b[0m 4ms/step - loss: 3179544576000.0000 - mean_squared_error: 3179544576000.0000 - val_loss: 5253991759872.0000 - val_mean_squared_error: 5253991759872.0000\n",
            "Epoch 67/100\n",
            "\u001b[1m28/28\u001b[0m \u001b[32m━━━━━━━━━━━━━━━━━━━━\u001b[0m\u001b[37m\u001b[0m \u001b[1m0s\u001b[0m 5ms/step - loss: 3484212527104.0000 - mean_squared_error: 3484212527104.0000 - val_loss: 5176057921536.0000 - val_mean_squared_error: 5176057921536.0000\n",
            "Epoch 68/100\n",
            "\u001b[1m28/28\u001b[0m \u001b[32m━━━━━━━━━━━━━━━━━━━━\u001b[0m\u001b[37m\u001b[0m \u001b[1m0s\u001b[0m 9ms/step - loss: 2709473722368.0000 - mean_squared_error: 2709473722368.0000 - val_loss: 5279963938816.0000 - val_mean_squared_error: 5279963938816.0000\n",
            "Epoch 69/100\n",
            "\u001b[1m28/28\u001b[0m \u001b[32m━━━━━━━━━━━━━━━━━━━━\u001b[0m\u001b[37m\u001b[0m \u001b[1m0s\u001b[0m 10ms/step - loss: 3324348203008.0000 - mean_squared_error: 3324348203008.0000 - val_loss: 5139396558848.0000 - val_mean_squared_error: 5139396558848.0000\n",
            "Epoch 70/100\n",
            "\u001b[1m28/28\u001b[0m \u001b[32m━━━━━━━━━━━━━━━━━━━━\u001b[0m\u001b[37m\u001b[0m \u001b[1m1s\u001b[0m 11ms/step - loss: 3318622715904.0000 - mean_squared_error: 3318622715904.0000 - val_loss: 5278959403008.0000 - val_mean_squared_error: 5278959403008.0000\n",
            "Epoch 71/100\n",
            "\u001b[1m28/28\u001b[0m \u001b[32m━━━━━━━━━━━━━━━━━━━━\u001b[0m\u001b[37m\u001b[0m \u001b[1m1s\u001b[0m 10ms/step - loss: 3972082696192.0000 - mean_squared_error: 3972082696192.0000 - val_loss: 5302707027968.0000 - val_mean_squared_error: 5302707027968.0000\n",
            "Epoch 72/100\n",
            "\u001b[1m28/28\u001b[0m \u001b[32m━━━━━━━━━━━━━━━━━━━━\u001b[0m\u001b[37m\u001b[0m \u001b[1m1s\u001b[0m 18ms/step - loss: 3157570617344.0000 - mean_squared_error: 3157570617344.0000 - val_loss: 5277628760064.0000 - val_mean_squared_error: 5277628760064.0000\n",
            "Epoch 73/100\n",
            "\u001b[1m28/28\u001b[0m \u001b[32m━━━━━━━━━━━━━━━━━━━━\u001b[0m\u001b[37m\u001b[0m \u001b[1m0s\u001b[0m 13ms/step - loss: 3133263052800.0000 - mean_squared_error: 3133263052800.0000 - val_loss: 5347314499584.0000 - val_mean_squared_error: 5347314499584.0000\n",
            "Epoch 74/100\n",
            "\u001b[1m28/28\u001b[0m \u001b[32m━━━━━━━━━━━━━━━━━━━━\u001b[0m\u001b[37m\u001b[0m \u001b[1m1s\u001b[0m 13ms/step - loss: 3935813500928.0000 - mean_squared_error: 3935813500928.0000 - val_loss: 5446188400640.0000 - val_mean_squared_error: 5446188400640.0000\n",
            "Epoch 75/100\n",
            "\u001b[1m28/28\u001b[0m \u001b[32m━━━━━━━━━━━━━━━━━━━━\u001b[0m\u001b[37m\u001b[0m \u001b[1m0s\u001b[0m 4ms/step - loss: 3176713420800.0000 - mean_squared_error: 3176713420800.0000 - val_loss: 5351914602496.0000 - val_mean_squared_error: 5351914602496.0000\n",
            "Epoch 76/100\n",
            "\u001b[1m28/28\u001b[0m \u001b[32m━━━━━━━━━━━━━━━━━━━━\u001b[0m\u001b[37m\u001b[0m \u001b[1m0s\u001b[0m 4ms/step - loss: 3548422864896.0000 - mean_squared_error: 3548422864896.0000 - val_loss: 5104023371776.0000 - val_mean_squared_error: 5104023371776.0000\n",
            "Epoch 77/100\n",
            "\u001b[1m28/28\u001b[0m \u001b[32m━━━━━━━━━━━━━━━━━━━━\u001b[0m\u001b[37m\u001b[0m \u001b[1m0s\u001b[0m 4ms/step - loss: 3402471571456.0000 - mean_squared_error: 3402471571456.0000 - val_loss: 5066467573760.0000 - val_mean_squared_error: 5066467573760.0000\n",
            "Epoch 78/100\n",
            "\u001b[1m28/28\u001b[0m \u001b[32m━━━━━━━━━━━━━━━━━━━━\u001b[0m\u001b[37m\u001b[0m \u001b[1m0s\u001b[0m 5ms/step - loss: 3913845833728.0000 - mean_squared_error: 3913845833728.0000 - val_loss: 5269498626048.0000 - val_mean_squared_error: 5269498626048.0000\n",
            "Epoch 79/100\n",
            "\u001b[1m28/28\u001b[0m \u001b[32m━━━━━━━━━━━━━━━━━━━━\u001b[0m\u001b[37m\u001b[0m \u001b[1m0s\u001b[0m 5ms/step - loss: 3005007790080.0000 - mean_squared_error: 3005007790080.0000 - val_loss: 5305064226816.0000 - val_mean_squared_error: 5305064226816.0000\n",
            "Epoch 80/100\n",
            "\u001b[1m28/28\u001b[0m \u001b[32m━━━━━━━━━━━━━━━━━━━━\u001b[0m\u001b[37m\u001b[0m \u001b[1m0s\u001b[0m 4ms/step - loss: 3538423119872.0000 - mean_squared_error: 3538423119872.0000 - val_loss: 5271163240448.0000 - val_mean_squared_error: 5271163240448.0000\n",
            "Epoch 81/100\n",
            "\u001b[1m28/28\u001b[0m \u001b[32m━━━━━━━━━━━━━━━━━━━━\u001b[0m\u001b[37m\u001b[0m \u001b[1m0s\u001b[0m 4ms/step - loss: 3298357149696.0000 - mean_squared_error: 3298357149696.0000 - val_loss: 5075503677440.0000 - val_mean_squared_error: 5075503677440.0000\n",
            "Epoch 82/100\n",
            "\u001b[1m28/28\u001b[0m \u001b[32m━━━━━━━━━━━━━━━━━━━━\u001b[0m\u001b[37m\u001b[0m \u001b[1m0s\u001b[0m 4ms/step - loss: 3001955647488.0000 - mean_squared_error: 3001955647488.0000 - val_loss: 5072928899072.0000 - val_mean_squared_error: 5072928899072.0000\n",
            "Epoch 83/100\n",
            "\u001b[1m28/28\u001b[0m \u001b[32m━━━━━━━━━━━━━━━━━━━━\u001b[0m\u001b[37m\u001b[0m \u001b[1m0s\u001b[0m 4ms/step - loss: 3470468317184.0000 - mean_squared_error: 3470468317184.0000 - val_loss: 5055158681600.0000 - val_mean_squared_error: 5055158681600.0000\n",
            "Epoch 84/100\n",
            "\u001b[1m28/28\u001b[0m \u001b[32m━━━━━━━━━━━━━━━━━━━━\u001b[0m\u001b[37m\u001b[0m \u001b[1m0s\u001b[0m 4ms/step - loss: 3299845079040.0000 - mean_squared_error: 3299845079040.0000 - val_loss: 5193102524416.0000 - val_mean_squared_error: 5193102524416.0000\n",
            "Epoch 85/100\n",
            "\u001b[1m28/28\u001b[0m \u001b[32m━━━━━━━━━━━━━━━━━━━━\u001b[0m\u001b[37m\u001b[0m \u001b[1m0s\u001b[0m 6ms/step - loss: 3360886620160.0000 - mean_squared_error: 3360886620160.0000 - val_loss: 5054831001600.0000 - val_mean_squared_error: 5054831001600.0000\n",
            "Epoch 86/100\n",
            "\u001b[1m28/28\u001b[0m \u001b[32m━━━━━━━━━━━━━━━━━━━━\u001b[0m\u001b[37m\u001b[0m \u001b[1m0s\u001b[0m 4ms/step - loss: 2970181435392.0000 - mean_squared_error: 2970181435392.0000 - val_loss: 5083130494976.0000 - val_mean_squared_error: 5083130494976.0000\n",
            "Epoch 87/100\n",
            "\u001b[1m28/28\u001b[0m \u001b[32m━━━━━━━━━━━━━━━━━━━━\u001b[0m\u001b[37m\u001b[0m \u001b[1m0s\u001b[0m 5ms/step - loss: 2669536870400.0000 - mean_squared_error: 2669536870400.0000 - val_loss: 5140322451456.0000 - val_mean_squared_error: 5140322451456.0000\n",
            "Epoch 88/100\n",
            "\u001b[1m28/28\u001b[0m \u001b[32m━━━━━━━━━━━━━━━━━━━━\u001b[0m\u001b[37m\u001b[0m \u001b[1m0s\u001b[0m 6ms/step - loss: 2829388873728.0000 - mean_squared_error: 2829388873728.0000 - val_loss: 5190122995712.0000 - val_mean_squared_error: 5190122995712.0000\n",
            "Epoch 89/100\n",
            "\u001b[1m28/28\u001b[0m \u001b[32m━━━━━━━━━━━━━━━━━━━━\u001b[0m\u001b[37m\u001b[0m \u001b[1m0s\u001b[0m 4ms/step - loss: 2769161027584.0000 - mean_squared_error: 2769161027584.0000 - val_loss: 5206279979008.0000 - val_mean_squared_error: 5206280503296.0000\n",
            "Epoch 90/100\n",
            "\u001b[1m28/28\u001b[0m \u001b[32m━━━━━━━━━━━━━━━━━━━━\u001b[0m\u001b[37m\u001b[0m \u001b[1m0s\u001b[0m 4ms/step - loss: 2903190274048.0000 - mean_squared_error: 2903190274048.0000 - val_loss: 5128618246144.0000 - val_mean_squared_error: 5128618246144.0000\n",
            "Epoch 91/100\n",
            "\u001b[1m28/28\u001b[0m \u001b[32m━━━━━━━━━━━━━━━━━━━━\u001b[0m\u001b[37m\u001b[0m \u001b[1m0s\u001b[0m 6ms/step - loss: 2753490321408.0000 - mean_squared_error: 2753490321408.0000 - val_loss: 5269913337856.0000 - val_mean_squared_error: 5269913337856.0000\n",
            "Epoch 92/100\n",
            "\u001b[1m28/28\u001b[0m \u001b[32m━━━━━━━━━━━━━━━━━━━━\u001b[0m\u001b[37m\u001b[0m \u001b[1m0s\u001b[0m 7ms/step - loss: 3294483709952.0000 - mean_squared_error: 3294483709952.0000 - val_loss: 5241011961856.0000 - val_mean_squared_error: 5241011961856.0000\n",
            "Epoch 93/100\n",
            "\u001b[1m28/28\u001b[0m \u001b[32m━━━━━━━━━━━━━━━━━━━━\u001b[0m\u001b[37m\u001b[0m \u001b[1m0s\u001b[0m 7ms/step - loss: 3105203421184.0000 - mean_squared_error: 3105203421184.0000 - val_loss: 5108784955392.0000 - val_mean_squared_error: 5108784955392.0000\n",
            "Epoch 94/100\n",
            "\u001b[1m28/28\u001b[0m \u001b[32m━━━━━━━━━━━━━━━━━━━━\u001b[0m\u001b[37m\u001b[0m \u001b[1m0s\u001b[0m 6ms/step - loss: 3445695971328.0000 - mean_squared_error: 3445695971328.0000 - val_loss: 5265857445888.0000 - val_mean_squared_error: 5265857445888.0000\n",
            "Epoch 95/100\n",
            "\u001b[1m28/28\u001b[0m \u001b[32m━━━━━━━━━━━━━━━━━━━━\u001b[0m\u001b[37m\u001b[0m \u001b[1m0s\u001b[0m 8ms/step - loss: 3228025225216.0000 - mean_squared_error: 3228025225216.0000 - val_loss: 5066214866944.0000 - val_mean_squared_error: 5066214866944.0000\n",
            "Epoch 96/100\n",
            "\u001b[1m28/28\u001b[0m \u001b[32m━━━━━━━━━━━━━━━━━━━━\u001b[0m\u001b[37m\u001b[0m \u001b[1m0s\u001b[0m 7ms/step - loss: 3069961306112.0000 - mean_squared_error: 3069961306112.0000 - val_loss: 5697237417984.0000 - val_mean_squared_error: 5697237417984.0000\n",
            "Epoch 97/100\n",
            "\u001b[1m28/28\u001b[0m \u001b[32m━━━━━━━━━━━━━━━━━━━━\u001b[0m\u001b[37m\u001b[0m \u001b[1m0s\u001b[0m 8ms/step - loss: 3184641703936.0000 - mean_squared_error: 3184641703936.0000 - val_loss: 5063504297984.0000 - val_mean_squared_error: 5063504297984.0000\n",
            "Epoch 98/100\n",
            "\u001b[1m28/28\u001b[0m \u001b[32m━━━━━━━━━━━━━━━━━━━━\u001b[0m\u001b[37m\u001b[0m \u001b[1m0s\u001b[0m 6ms/step - loss: 2826273554432.0000 - mean_squared_error: 2826273554432.0000 - val_loss: 5137660641280.0000 - val_mean_squared_error: 5137660641280.0000\n",
            "Epoch 99/100\n",
            "\u001b[1m28/28\u001b[0m \u001b[32m━━━━━━━━━━━━━━━━━━━━\u001b[0m\u001b[37m\u001b[0m \u001b[1m0s\u001b[0m 5ms/step - loss: 3291551891456.0000 - mean_squared_error: 3291551891456.0000 - val_loss: 5060226973696.0000 - val_mean_squared_error: 5060226973696.0000\n",
            "Epoch 100/100\n",
            "\u001b[1m28/28\u001b[0m \u001b[32m━━━━━━━━━━━━━━━━━━━━\u001b[0m\u001b[37m\u001b[0m \u001b[1m0s\u001b[0m 4ms/step - loss: 3185550557184.0000 - mean_squared_error: 3185550557184.0000 - val_loss: 5118603821056.0000 - val_mean_squared_error: 5118603821056.0000\n"
          ]
        }
      ]
    },
    {
      "cell_type": "code",
      "source": [
        "# Calculate the training error\n",
        "train_loss, train_mse = model.evaluate(X_train, y_train)\n",
        "print(f\"Training MSE: {train_mse}\")\n",
        "\n",
        "# Calculate the testing error\n",
        "test_loss, test_mse = model.evaluate(X_test, y_test)\n",
        "print(f\"Testing MSE: {test_mse}\")\n"
      ],
      "metadata": {
        "colab": {
          "base_uri": "https://localhost:8080/"
        },
        "id": "Uw1NH7bzc5kX",
        "outputId": "5326e889-b020-4a47-b6d5-25ddee463629"
      },
      "execution_count": 4,
      "outputs": [
        {
          "output_type": "stream",
          "name": "stdout",
          "text": [
            "\u001b[1m14/14\u001b[0m \u001b[32m━━━━━━━━━━━━━━━━━━━━\u001b[0m\u001b[37m\u001b[0m \u001b[1m0s\u001b[0m 13ms/step - loss: 3123848151040.0000 - mean_squared_error: 3123848151040.0000\n",
            "Training MSE: 3085692305408.0\n",
            "\u001b[1m4/4\u001b[0m \u001b[32m━━━━━━━━━━━━━━━━━━━━\u001b[0m\u001b[37m\u001b[0m \u001b[1m0s\u001b[0m 14ms/step - loss: 5250925199360.0000 - mean_squared_error: 5250925199360.0000 \n",
            "Testing MSE: 5118603821056.0\n"
          ]
        }
      ]
    },
    {
      "cell_type": "code",
      "source": [
        "# Save the trained model\n",
        "model.save('housing_price_model.h5')\n"
      ],
      "metadata": {
        "colab": {
          "base_uri": "https://localhost:8080/"
        },
        "id": "QZ78hchuc9Hn",
        "outputId": "e59cbda2-7a31-4231-bec7-77291b0db613"
      },
      "execution_count": 5,
      "outputs": [
        {
          "output_type": "stream",
          "name": "stderr",
          "text": [
            "WARNING:absl:You are saving your model as an HDF5 file via `model.save()` or `keras.saving.save_model(model)`. This file format is considered legacy. We recommend using instead the native Keras format, e.g. `model.save('my_model.keras')` or `keras.saving.save_model(model, 'my_model.keras')`. \n"
          ]
        }
      ]
    },
    {
      "cell_type": "code",
      "source": [
        "from tensorflow.keras.models import load_model\n",
        "\n",
        "# Load the saved model\n",
        "loaded_model = load_model('housing_price_model.h5')\n",
        "\n",
        "# Make predictions on the test data\n",
        "predictions = loaded_model.predict(X_test)\n",
        "\n",
        "# Example: Compare predictions with actual values\n",
        "for actual, predicted in zip(y_test[:10], predictions[:10]):\n",
        "    print(f\"Actual: {actual}, Predicted: {predicted[0]}\")\n"
      ],
      "metadata": {
        "colab": {
          "base_uri": "https://localhost:8080/"
        },
        "id": "226HLg7TdCxG",
        "outputId": "6d42c148-8c4c-49ad-ffc4-8bcb8be55eea"
      },
      "execution_count": 6,
      "outputs": [
        {
          "output_type": "stream",
          "name": "stderr",
          "text": [
            "WARNING:absl:Compiled the loaded model, but the compiled metrics have yet to be built. `model.compile_metrics` will be empty until you train or evaluate the model.\n"
          ]
        },
        {
          "output_type": "stream",
          "name": "stdout",
          "text": [
            "\u001b[1m4/4\u001b[0m \u001b[32m━━━━━━━━━━━━━━━━━━━━\u001b[0m\u001b[37m\u001b[0m \u001b[1m0s\u001b[0m 26ms/step\n",
            "Actual: 4060000, Predicted: 4754487.5\n",
            "Actual: 6650000, Predicted: 4754487.5\n",
            "Actual: 3710000, Predicted: 4754487.5\n",
            "Actual: 6440000, Predicted: 4754487.5\n",
            "Actual: 2800000, Predicted: 4754487.5\n",
            "Actual: 4900000, Predicted: 4754487.5\n",
            "Actual: 5250000, Predicted: 4754487.5\n",
            "Actual: 4543000, Predicted: 4754487.5\n",
            "Actual: 2450000, Predicted: 4754487.5\n",
            "Actual: 3353000, Predicted: 4754487.5\n"
          ]
        }
      ]
    }
  ]
}