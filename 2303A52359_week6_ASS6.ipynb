{
  "nbformat": 4,
  "nbformat_minor": 0,
  "metadata": {
    "colab": {
      "provenance": [],
      "authorship_tag": "ABX9TyMR4w0IxBAeb9XN+A9Qjezj",
      "include_colab_link": true
    },
    "kernelspec": {
      "name": "python3",
      "display_name": "Python 3"
    },
    "language_info": {
      "name": "python"
    }
  },
  "cells": [
    {
      "cell_type": "markdown",
      "metadata": {
        "id": "view-in-github",
        "colab_type": "text"
      },
      "source": [
        "<a href=\"https://colab.research.google.com/github/2303A52359/Generative-AI/blob/main/2303A52359_week6_ASS6.ipynb\" target=\"_parent\"><img src=\"https://colab.research.google.com/assets/colab-badge.svg\" alt=\"Open In Colab\"/></a>"
      ]
    },
    {
      "cell_type": "markdown",
      "source": [
        "1. Design a multilayer ANN architecture according to the requirements shown below. Train, test, save (.h5) and deploy the model to predict the housing price using Keras deep learning library"
      ],
      "metadata": {
        "id": "7Ubd2L-uniy2"
      }
    },
    {
      "cell_type": "code",
      "source": [
        "import pandas as pd\n",
        "from sklearn.model_selection import train_test_split\n",
        "from sklearn.preprocessing import StandardScaler\n",
        "import numpy as np\n",
        "from sklearn.preprocessing import OneHotEncoder\n",
        "url = '/content/Housing (4).csv'\n",
        "df = pd.read_csv(url)\n",
        "X = df.drop('price', axis=1)\n",
        "y = df['price']\n",
        "X_train, X_test, y_train, y_test = train_test_split(X, y, test_size=0.2, random_state=42)\n",
        "categorical_features = X_train.select_dtypes(include=['object']).columns\n",
        "encoder = OneHotEncoder(sparse_output=False, handle_unknown='ignore')\n",
        "encoded_features_train = encoder.fit_transform(X_train[categorical_features])\n",
        "encoded_features_test = encoder.transform(X_test[categorical_features])\n",
        "encoded_df_train = pd.DataFrame(encoded_features_train, columns=encoder.get_feature_names_out(categorical_features), index=X_train.index)\n",
        "encoded_df_test = pd.DataFrame(encoded_features_test, columns=encoder.get_feature_names_out(categorical_features), index=X_test.index)\n",
        "X_train = X_train.drop(categorical_features, axis=1)\n",
        "X_test = X_test.drop(categorical_features, axis=1)\n",
        "X_train = pd.concat([X_train, encoded_df_train], axis=1)\n",
        "X_test = pd.concat([X_test, encoded_df_test], axis=1)\n",
        "scaler = StandardScaler()\n",
        "X_train = scaler.fit_transform(X_train)\n",
        "X_test = scaler.transform(X_test)\n",
        ""
      ],
      "metadata": {
        "id": "r5EX96dsnnl1"
      },
      "execution_count": 3,
      "outputs": []
    },
    {
      "cell_type": "markdown",
      "source": [
        "2.Calculate training and testing error metrics"
      ],
      "metadata": {
        "id": "JWV276G7oEC2"
      }
    },
    {
      "cell_type": "code",
      "source": [
        "from tensorflow.keras.models import Sequential\n",
        "from tensorflow.keras.layers import Dense\n",
        "from tensorflow.keras.optimizers import SGD\n",
        "from tensorflow.keras.metrics import MeanSquaredError\n",
        "model = Sequential()\n",
        "model.add(Dense(15, input_dim=X_train.shape[1], activation='tanh'))\n",
        "model.add(Dense(20, activation='tanh'))\n",
        "model.add(Dense(15, activation='tanh'))\n",
        "model.add(Dense(1))\n",
        "model.compile(loss='mean_squared_error',\n",
        "              optimizer=SGD(),\n",
        "              metrics=[MeanSquaredError()])"
      ],
      "metadata": {
        "colab": {
          "base_uri": "https://localhost:8080/"
        },
        "id": "NNigDLZAoGLX",
        "outputId": "f9cb6f83-7d93-4619-e508-d7a3df3446b8"
      },
      "execution_count": 4,
      "outputs": [
        {
          "output_type": "stream",
          "name": "stderr",
          "text": [
            "/usr/local/lib/python3.11/dist-packages/keras/src/layers/core/dense.py:87: UserWarning: Do not pass an `input_shape`/`input_dim` argument to a layer. When using Sequential models, prefer using an `Input(shape)` object as the first layer in the model instead.\n",
            "  super().__init__(activity_regularizer=activity_regularizer, **kwargs)\n"
          ]
        }
      ]
    },
    {
      "cell_type": "markdown",
      "source": [
        "3.Build the application by loading the saved ANN model. Tabela 1: ANN Architecture Layer Neurons Activation Function Hidden Layer - 1 15 tanh Hidden Layer - 2 20 tanh Hidden Layer - 3 15 tanh Tabela 2: Training Parameters loss function epochs batch size error metric Optimizer Mean Square Error 100 16 Mean Square Error SGD Dataset: https://drive.google.com/file/d/1AcdENlVm5dccNyo_vgdMbneX8YVvH5R3/view? usp=sharing"
      ],
      "metadata": {
        "id": "NHMzVVqboNll"
      }
    },
    {
      "cell_type": "code",
      "source": [
        "history = model.fit(X_train, y_train,\n",
        "                    epochs=100,\n",
        "                    batch_size=16,\n",
        "                    validation_data=(X_test, y_test))"
      ],
      "metadata": {
        "colab": {
          "base_uri": "https://localhost:8080/"
        },
        "id": "9I_G2CsioQ51",
        "outputId": "9a71d04c-d8db-468c-942c-333bf40893bd"
      },
      "execution_count": 5,
      "outputs": [
        {
          "output_type": "stream",
          "name": "stdout",
          "text": [
            "Epoch 1/100\n",
            "\u001b[1m28/28\u001b[0m \u001b[32m━━━━━━━━━━━━━━━━━━━━\u001b[0m\u001b[37m\u001b[0m \u001b[1m2s\u001b[0m 29ms/step - loss: 9216479723520.0000 - mean_squared_error: 9216479723520.0000 - val_loss: 5137170956288.0000 - val_mean_squared_error: 5137170956288.0000\n",
            "Epoch 2/100\n",
            "\u001b[1m28/28\u001b[0m \u001b[32m━━━━━━━━━━━━━━━━━━━━\u001b[0m\u001b[37m\u001b[0m \u001b[1m0s\u001b[0m 8ms/step - loss: 2719080251392.0000 - mean_squared_error: 2719080251392.0000 - val_loss: 5223039893504.0000 - val_mean_squared_error: 5223039893504.0000\n",
            "Epoch 3/100\n",
            "\u001b[1m28/28\u001b[0m \u001b[32m━━━━━━━━━━━━━━━━━━━━\u001b[0m\u001b[37m\u001b[0m \u001b[1m0s\u001b[0m 12ms/step - loss: 3095946330112.0000 - mean_squared_error: 3095946330112.0000 - val_loss: 5139688062976.0000 - val_mean_squared_error: 5139688062976.0000\n",
            "Epoch 4/100\n",
            "\u001b[1m28/28\u001b[0m \u001b[32m━━━━━━━━━━━━━━━━━━━━\u001b[0m\u001b[37m\u001b[0m \u001b[1m0s\u001b[0m 4ms/step - loss: 2763828232192.0000 - mean_squared_error: 2763828232192.0000 - val_loss: 5097687875584.0000 - val_mean_squared_error: 5097687875584.0000\n",
            "Epoch 5/100\n",
            "\u001b[1m28/28\u001b[0m \u001b[32m━━━━━━━━━━━━━━━━━━━━\u001b[0m\u001b[37m\u001b[0m \u001b[1m0s\u001b[0m 4ms/step - loss: 2896893050880.0000 - mean_squared_error: 2896893050880.0000 - val_loss: 5161103654912.0000 - val_mean_squared_error: 5161103654912.0000\n",
            "Epoch 6/100\n",
            "\u001b[1m28/28\u001b[0m \u001b[32m━━━━━━━━━━━━━━━━━━━━\u001b[0m\u001b[37m\u001b[0m \u001b[1m0s\u001b[0m 9ms/step - loss: 2954174136320.0000 - mean_squared_error: 2954174136320.0000 - val_loss: 5472643448832.0000 - val_mean_squared_error: 5472643448832.0000\n",
            "Epoch 7/100\n",
            "\u001b[1m28/28\u001b[0m \u001b[32m━━━━━━━━━━━━━━━━━━━━\u001b[0m\u001b[37m\u001b[0m \u001b[1m0s\u001b[0m 5ms/step - loss: 2923666079744.0000 - mean_squared_error: 2923666079744.0000 - val_loss: 5267767427072.0000 - val_mean_squared_error: 5267767427072.0000\n",
            "Epoch 8/100\n",
            "\u001b[1m28/28\u001b[0m \u001b[32m━━━━━━━━━━━━━━━━━━━━\u001b[0m\u001b[37m\u001b[0m \u001b[1m0s\u001b[0m 4ms/step - loss: 2583123460096.0000 - mean_squared_error: 2583123460096.0000 - val_loss: 5400002822144.0000 - val_mean_squared_error: 5400002822144.0000\n",
            "Epoch 9/100\n",
            "\u001b[1m28/28\u001b[0m \u001b[32m━━━━━━━━━━━━━━━━━━━━\u001b[0m\u001b[37m\u001b[0m \u001b[1m0s\u001b[0m 5ms/step - loss: 3012792418304.0000 - mean_squared_error: 3012792418304.0000 - val_loss: 5598962778112.0000 - val_mean_squared_error: 5598962778112.0000\n",
            "Epoch 10/100\n",
            "\u001b[1m28/28\u001b[0m \u001b[32m━━━━━━━━━━━━━━━━━━━━\u001b[0m\u001b[37m\u001b[0m \u001b[1m0s\u001b[0m 4ms/step - loss: 2684989734912.0000 - mean_squared_error: 2684989734912.0000 - val_loss: 5126155665408.0000 - val_mean_squared_error: 5126155665408.0000\n",
            "Epoch 11/100\n",
            "\u001b[1m28/28\u001b[0m \u001b[32m━━━━━━━━━━━━━━━━━━━━\u001b[0m\u001b[37m\u001b[0m \u001b[1m0s\u001b[0m 4ms/step - loss: 2957207404544.0000 - mean_squared_error: 2957207404544.0000 - val_loss: 5357607321600.0000 - val_mean_squared_error: 5357607321600.0000\n",
            "Epoch 12/100\n",
            "\u001b[1m28/28\u001b[0m \u001b[32m━━━━━━━━━━━━━━━━━━━━\u001b[0m\u001b[37m\u001b[0m \u001b[1m0s\u001b[0m 4ms/step - loss: 3960018567168.0000 - mean_squared_error: 3960018567168.0000 - val_loss: 5604779753472.0000 - val_mean_squared_error: 5604779753472.0000\n",
            "Epoch 13/100\n",
            "\u001b[1m28/28\u001b[0m \u001b[32m━━━━━━━━━━━━━━━━━━━━\u001b[0m\u001b[37m\u001b[0m \u001b[1m0s\u001b[0m 4ms/step - loss: 3553742815232.0000 - mean_squared_error: 3553742815232.0000 - val_loss: 5758621057024.0000 - val_mean_squared_error: 5758621057024.0000\n",
            "Epoch 14/100\n",
            "\u001b[1m28/28\u001b[0m \u001b[32m━━━━━━━━━━━━━━━━━━━━\u001b[0m\u001b[37m\u001b[0m \u001b[1m0s\u001b[0m 5ms/step - loss: 3461823856640.0000 - mean_squared_error: 3461823856640.0000 - val_loss: 5262773059584.0000 - val_mean_squared_error: 5262773059584.0000\n",
            "Epoch 15/100\n",
            "\u001b[1m28/28\u001b[0m \u001b[32m━━━━━━━━━━━━━━━━━━━━\u001b[0m\u001b[37m\u001b[0m \u001b[1m0s\u001b[0m 4ms/step - loss: 3098277576704.0000 - mean_squared_error: 3098277576704.0000 - val_loss: 5080357535744.0000 - val_mean_squared_error: 5080357535744.0000\n",
            "Epoch 16/100\n",
            "\u001b[1m28/28\u001b[0m \u001b[32m━━━━━━━━━━━━━━━━━━━━\u001b[0m\u001b[37m\u001b[0m \u001b[1m0s\u001b[0m 4ms/step - loss: 3447222960128.0000 - mean_squared_error: 3447222960128.0000 - val_loss: 5423409659904.0000 - val_mean_squared_error: 5423409659904.0000\n",
            "Epoch 17/100\n",
            "\u001b[1m28/28\u001b[0m \u001b[32m━━━━━━━━━━━━━━━━━━━━\u001b[0m\u001b[37m\u001b[0m \u001b[1m0s\u001b[0m 4ms/step - loss: 3305211428864.0000 - mean_squared_error: 3305211428864.0000 - val_loss: 5099217747968.0000 - val_mean_squared_error: 5099217747968.0000\n",
            "Epoch 18/100\n",
            "\u001b[1m28/28\u001b[0m \u001b[32m━━━━━━━━━━━━━━━━━━━━\u001b[0m\u001b[37m\u001b[0m \u001b[1m0s\u001b[0m 4ms/step - loss: 3168346308608.0000 - mean_squared_error: 3168346308608.0000 - val_loss: 5499230093312.0000 - val_mean_squared_error: 5499230093312.0000\n",
            "Epoch 19/100\n",
            "\u001b[1m28/28\u001b[0m \u001b[32m━━━━━━━━━━━━━━━━━━━━\u001b[0m\u001b[37m\u001b[0m \u001b[1m0s\u001b[0m 4ms/step - loss: 2863648997376.0000 - mean_squared_error: 2863648997376.0000 - val_loss: 5648041902080.0000 - val_mean_squared_error: 5648041902080.0000\n",
            "Epoch 20/100\n",
            "\u001b[1m28/28\u001b[0m \u001b[32m━━━━━━━━━━━━━━━━━━━━\u001b[0m\u001b[37m\u001b[0m \u001b[1m0s\u001b[0m 4ms/step - loss: 3093852848128.0000 - mean_squared_error: 3093852848128.0000 - val_loss: 5090160148480.0000 - val_mean_squared_error: 5090160148480.0000\n",
            "Epoch 21/100\n",
            "\u001b[1m28/28\u001b[0m \u001b[32m━━━━━━━━━━━━━━━━━━━━\u001b[0m\u001b[37m\u001b[0m \u001b[1m0s\u001b[0m 4ms/step - loss: 3715972726784.0000 - mean_squared_error: 3715972726784.0000 - val_loss: 5076508737536.0000 - val_mean_squared_error: 5076508737536.0000\n",
            "Epoch 22/100\n",
            "\u001b[1m28/28\u001b[0m \u001b[32m━━━━━━━━━━━━━━━━━━━━\u001b[0m\u001b[37m\u001b[0m \u001b[1m0s\u001b[0m 4ms/step - loss: 2869944385536.0000 - mean_squared_error: 2869944385536.0000 - val_loss: 5054570430464.0000 - val_mean_squared_error: 5054570430464.0000\n",
            "Epoch 23/100\n",
            "\u001b[1m28/28\u001b[0m \u001b[32m━━━━━━━━━━━━━━━━━━━━\u001b[0m\u001b[37m\u001b[0m \u001b[1m0s\u001b[0m 4ms/step - loss: 3182096023552.0000 - mean_squared_error: 3182096023552.0000 - val_loss: 5481919152128.0000 - val_mean_squared_error: 5481919152128.0000\n",
            "Epoch 24/100\n",
            "\u001b[1m28/28\u001b[0m \u001b[32m━━━━━━━━━━━━━━━━━━━━\u001b[0m\u001b[37m\u001b[0m \u001b[1m0s\u001b[0m 4ms/step - loss: 3706478919680.0000 - mean_squared_error: 3706478919680.0000 - val_loss: 5244628500480.0000 - val_mean_squared_error: 5244628500480.0000\n",
            "Epoch 25/100\n",
            "\u001b[1m28/28\u001b[0m \u001b[32m━━━━━━━━━━━━━━━━━━━━\u001b[0m\u001b[37m\u001b[0m \u001b[1m0s\u001b[0m 4ms/step - loss: 3254248275968.0000 - mean_squared_error: 3254248275968.0000 - val_loss: 5054616043520.0000 - val_mean_squared_error: 5054616043520.0000\n",
            "Epoch 26/100\n",
            "\u001b[1m28/28\u001b[0m \u001b[32m━━━━━━━━━━━━━━━━━━━━\u001b[0m\u001b[37m\u001b[0m \u001b[1m0s\u001b[0m 5ms/step - loss: 2718690181120.0000 - mean_squared_error: 2718690181120.0000 - val_loss: 5100619169792.0000 - val_mean_squared_error: 5100619169792.0000\n",
            "Epoch 27/100\n",
            "\u001b[1m28/28\u001b[0m \u001b[32m━━━━━━━━━━━━━━━━━━━━\u001b[0m\u001b[37m\u001b[0m \u001b[1m0s\u001b[0m 5ms/step - loss: 2904579375104.0000 - mean_squared_error: 2904579375104.0000 - val_loss: 5061988581376.0000 - val_mean_squared_error: 5061988581376.0000\n",
            "Epoch 28/100\n",
            "\u001b[1m28/28\u001b[0m \u001b[32m━━━━━━━━━━━━━━━━━━━━\u001b[0m\u001b[37m\u001b[0m \u001b[1m0s\u001b[0m 5ms/step - loss: 3261104128000.0000 - mean_squared_error: 3261104128000.0000 - val_loss: 5084666658816.0000 - val_mean_squared_error: 5084666658816.0000\n",
            "Epoch 29/100\n",
            "\u001b[1m28/28\u001b[0m \u001b[32m━━━━━━━━━━━━━━━━━━━━\u001b[0m\u001b[37m\u001b[0m \u001b[1m0s\u001b[0m 5ms/step - loss: 2924885835776.0000 - mean_squared_error: 2924885835776.0000 - val_loss: 5123138387968.0000 - val_mean_squared_error: 5123138387968.0000\n",
            "Epoch 30/100\n",
            "\u001b[1m28/28\u001b[0m \u001b[32m━━━━━━━━━━━━━━━━━━━━\u001b[0m\u001b[37m\u001b[0m \u001b[1m0s\u001b[0m 5ms/step - loss: 3254043017216.0000 - mean_squared_error: 3254043017216.0000 - val_loss: 5082304741376.0000 - val_mean_squared_error: 5082304741376.0000\n",
            "Epoch 31/100\n",
            "\u001b[1m28/28\u001b[0m \u001b[32m━━━━━━━━━━━━━━━━━━━━\u001b[0m\u001b[37m\u001b[0m \u001b[1m0s\u001b[0m 5ms/step - loss: 2749302308864.0000 - mean_squared_error: 2749302308864.0000 - val_loss: 5054670569472.0000 - val_mean_squared_error: 5054670569472.0000\n",
            "Epoch 32/100\n",
            "\u001b[1m28/28\u001b[0m \u001b[32m━━━━━━━━━━━━━━━━━━━━\u001b[0m\u001b[37m\u001b[0m \u001b[1m0s\u001b[0m 4ms/step - loss: 3115646713856.0000 - mean_squared_error: 3115646713856.0000 - val_loss: 5493614968832.0000 - val_mean_squared_error: 5493614968832.0000\n",
            "Epoch 33/100\n",
            "\u001b[1m28/28\u001b[0m \u001b[32m━━━━━━━━━━━━━━━━━━━━\u001b[0m\u001b[37m\u001b[0m \u001b[1m0s\u001b[0m 4ms/step - loss: 2917379080192.0000 - mean_squared_error: 2917379080192.0000 - val_loss: 5136153837568.0000 - val_mean_squared_error: 5136153837568.0000\n",
            "Epoch 34/100\n",
            "\u001b[1m28/28\u001b[0m \u001b[32m━━━━━━━━━━━━━━━━━━━━\u001b[0m\u001b[37m\u001b[0m \u001b[1m0s\u001b[0m 4ms/step - loss: 2998163472384.0000 - mean_squared_error: 2998163472384.0000 - val_loss: 5220169416704.0000 - val_mean_squared_error: 5220169416704.0000\n",
            "Epoch 35/100\n",
            "\u001b[1m28/28\u001b[0m \u001b[32m━━━━━━━━━━━━━━━━━━━━\u001b[0m\u001b[37m\u001b[0m \u001b[1m0s\u001b[0m 4ms/step - loss: 3009607892992.0000 - mean_squared_error: 3009607892992.0000 - val_loss: 5241540444160.0000 - val_mean_squared_error: 5241540444160.0000\n",
            "Epoch 36/100\n",
            "\u001b[1m28/28\u001b[0m \u001b[32m━━━━━━━━━━━━━━━━━━━━\u001b[0m\u001b[37m\u001b[0m \u001b[1m0s\u001b[0m 5ms/step - loss: 3183186542592.0000 - mean_squared_error: 3183186542592.0000 - val_loss: 5259340021760.0000 - val_mean_squared_error: 5259340021760.0000\n",
            "Epoch 37/100\n",
            "\u001b[1m28/28\u001b[0m \u001b[32m━━━━━━━━━━━━━━━━━━━━\u001b[0m\u001b[37m\u001b[0m \u001b[1m0s\u001b[0m 6ms/step - loss: 3027502891008.0000 - mean_squared_error: 3027502891008.0000 - val_loss: 5139206766592.0000 - val_mean_squared_error: 5139206766592.0000\n",
            "Epoch 38/100\n",
            "\u001b[1m28/28\u001b[0m \u001b[32m━━━━━━━━━━━━━━━━━━━━\u001b[0m\u001b[37m\u001b[0m \u001b[1m0s\u001b[0m 5ms/step - loss: 3393176469504.0000 - mean_squared_error: 3393176469504.0000 - val_loss: 5268399194112.0000 - val_mean_squared_error: 5268399194112.0000\n",
            "Epoch 39/100\n",
            "\u001b[1m28/28\u001b[0m \u001b[32m━━━━━━━━━━━━━━━━━━━━\u001b[0m\u001b[37m\u001b[0m \u001b[1m0s\u001b[0m 5ms/step - loss: 2877885251584.0000 - mean_squared_error: 2877885251584.0000 - val_loss: 5103060779008.0000 - val_mean_squared_error: 5103060779008.0000\n",
            "Epoch 40/100\n",
            "\u001b[1m28/28\u001b[0m \u001b[32m━━━━━━━━━━━━━━━━━━━━\u001b[0m\u001b[37m\u001b[0m \u001b[1m0s\u001b[0m 5ms/step - loss: 3081772728320.0000 - mean_squared_error: 3081772728320.0000 - val_loss: 5107152846848.0000 - val_mean_squared_error: 5107152846848.0000\n",
            "Epoch 41/100\n",
            "\u001b[1m28/28\u001b[0m \u001b[32m━━━━━━━━━━━━━━━━━━━━\u001b[0m\u001b[37m\u001b[0m \u001b[1m0s\u001b[0m 5ms/step - loss: 3074197291008.0000 - mean_squared_error: 3074197291008.0000 - val_loss: 5262711193600.0000 - val_mean_squared_error: 5262711193600.0000\n",
            "Epoch 42/100\n",
            "\u001b[1m28/28\u001b[0m \u001b[32m━━━━━━━━━━━━━━━━━━━━\u001b[0m\u001b[37m\u001b[0m \u001b[1m0s\u001b[0m 5ms/step - loss: 3362830942208.0000 - mean_squared_error: 3362830942208.0000 - val_loss: 5343588384768.0000 - val_mean_squared_error: 5343588384768.0000\n",
            "Epoch 43/100\n",
            "\u001b[1m28/28\u001b[0m \u001b[32m━━━━━━━━━━━━━━━━━━━━\u001b[0m\u001b[37m\u001b[0m \u001b[1m0s\u001b[0m 6ms/step - loss: 3057885642752.0000 - mean_squared_error: 3057885642752.0000 - val_loss: 5144056430592.0000 - val_mean_squared_error: 5144056430592.0000\n",
            "Epoch 44/100\n",
            "\u001b[1m28/28\u001b[0m \u001b[32m━━━━━━━━━━━━━━━━━━━━\u001b[0m\u001b[37m\u001b[0m \u001b[1m0s\u001b[0m 7ms/step - loss: 3426658811904.0000 - mean_squared_error: 3426658811904.0000 - val_loss: 5097290989568.0000 - val_mean_squared_error: 5097290989568.0000\n",
            "Epoch 45/100\n",
            "\u001b[1m28/28\u001b[0m \u001b[32m━━━━━━━━━━━━━━━━━━━━\u001b[0m\u001b[37m\u001b[0m \u001b[1m0s\u001b[0m 7ms/step - loss: 3527654244352.0000 - mean_squared_error: 3527654244352.0000 - val_loss: 5205544927232.0000 - val_mean_squared_error: 5205544927232.0000\n",
            "Epoch 46/100\n",
            "\u001b[1m28/28\u001b[0m \u001b[32m━━━━━━━━━━━━━━━━━━━━\u001b[0m\u001b[37m\u001b[0m \u001b[1m0s\u001b[0m 6ms/step - loss: 2928675913728.0000 - mean_squared_error: 2928675913728.0000 - val_loss: 5411899965440.0000 - val_mean_squared_error: 5411899965440.0000\n",
            "Epoch 47/100\n",
            "\u001b[1m28/28\u001b[0m \u001b[32m━━━━━━━━━━━━━━━━━━━━\u001b[0m\u001b[37m\u001b[0m \u001b[1m0s\u001b[0m 7ms/step - loss: 2918538805248.0000 - mean_squared_error: 2918538805248.0000 - val_loss: 5126221201408.0000 - val_mean_squared_error: 5126221201408.0000\n",
            "Epoch 48/100\n",
            "\u001b[1m28/28\u001b[0m \u001b[32m━━━━━━━━━━━━━━━━━━━━\u001b[0m\u001b[37m\u001b[0m \u001b[1m0s\u001b[0m 7ms/step - loss: 3091347013632.0000 - mean_squared_error: 3091347013632.0000 - val_loss: 5056771915776.0000 - val_mean_squared_error: 5056771915776.0000\n",
            "Epoch 49/100\n",
            "\u001b[1m28/28\u001b[0m \u001b[32m━━━━━━━━━━━━━━━━━━━━\u001b[0m\u001b[37m\u001b[0m \u001b[1m0s\u001b[0m 7ms/step - loss: 2434519793664.0000 - mean_squared_error: 2434519793664.0000 - val_loss: 5178922631168.0000 - val_mean_squared_error: 5178922631168.0000\n",
            "Epoch 50/100\n",
            "\u001b[1m28/28\u001b[0m \u001b[32m━━━━━━━━━━━━━━━━━━━━\u001b[0m\u001b[37m\u001b[0m \u001b[1m0s\u001b[0m 7ms/step - loss: 3470340128768.0000 - mean_squared_error: 3470340128768.0000 - val_loss: 5216569655296.0000 - val_mean_squared_error: 5216569655296.0000\n",
            "Epoch 51/100\n",
            "\u001b[1m28/28\u001b[0m \u001b[32m━━━━━━━━━━━━━━━━━━━━\u001b[0m\u001b[37m\u001b[0m \u001b[1m0s\u001b[0m 4ms/step - loss: 2941532766208.0000 - mean_squared_error: 2941532766208.0000 - val_loss: 5054571479040.0000 - val_mean_squared_error: 5054571479040.0000\n",
            "Epoch 52/100\n",
            "\u001b[1m28/28\u001b[0m \u001b[32m━━━━━━━━━━━━━━━━━━━━\u001b[0m\u001b[37m\u001b[0m \u001b[1m0s\u001b[0m 4ms/step - loss: 2798258487296.0000 - mean_squared_error: 2798258487296.0000 - val_loss: 5248347799552.0000 - val_mean_squared_error: 5248347799552.0000\n",
            "Epoch 53/100\n",
            "\u001b[1m28/28\u001b[0m \u001b[32m━━━━━━━━━━━━━━━━━━━━\u001b[0m\u001b[37m\u001b[0m \u001b[1m0s\u001b[0m 5ms/step - loss: 2901582020608.0000 - mean_squared_error: 2901582020608.0000 - val_loss: 5309861462016.0000 - val_mean_squared_error: 5309861462016.0000\n",
            "Epoch 54/100\n",
            "\u001b[1m28/28\u001b[0m \u001b[32m━━━━━━━━━━━━━━━━━━━━\u001b[0m\u001b[37m\u001b[0m \u001b[1m0s\u001b[0m 4ms/step - loss: 3454111842304.0000 - mean_squared_error: 3454111842304.0000 - val_loss: 5071987802112.0000 - val_mean_squared_error: 5071987802112.0000\n",
            "Epoch 55/100\n",
            "\u001b[1m28/28\u001b[0m \u001b[32m━━━━━━━━━━━━━━━━━━━━\u001b[0m\u001b[37m\u001b[0m \u001b[1m0s\u001b[0m 4ms/step - loss: 3553615937536.0000 - mean_squared_error: 3553615937536.0000 - val_loss: 5231694315520.0000 - val_mean_squared_error: 5231694315520.0000\n",
            "Epoch 56/100\n",
            "\u001b[1m28/28\u001b[0m \u001b[32m━━━━━━━━━━━━━━━━━━━━\u001b[0m\u001b[37m\u001b[0m \u001b[1m0s\u001b[0m 4ms/step - loss: 2953857990656.0000 - mean_squared_error: 2953857990656.0000 - val_loss: 5060689395712.0000 - val_mean_squared_error: 5060689395712.0000\n",
            "Epoch 57/100\n",
            "\u001b[1m28/28\u001b[0m \u001b[32m━━━━━━━━━━━━━━━━━━━━\u001b[0m\u001b[37m\u001b[0m \u001b[1m0s\u001b[0m 4ms/step - loss: 3213201768448.0000 - mean_squared_error: 3213201768448.0000 - val_loss: 5942877880320.0000 - val_mean_squared_error: 5942877880320.0000\n",
            "Epoch 58/100\n",
            "\u001b[1m28/28\u001b[0m \u001b[32m━━━━━━━━━━━━━━━━━━━━\u001b[0m\u001b[37m\u001b[0m \u001b[1m0s\u001b[0m 6ms/step - loss: 3529383870464.0000 - mean_squared_error: 3529383870464.0000 - val_loss: 5608809955328.0000 - val_mean_squared_error: 5608809955328.0000\n",
            "Epoch 59/100\n",
            "\u001b[1m28/28\u001b[0m \u001b[32m━━━━━━━━━━━━━━━━━━━━\u001b[0m\u001b[37m\u001b[0m \u001b[1m0s\u001b[0m 5ms/step - loss: 3783964229632.0000 - mean_squared_error: 3783964229632.0000 - val_loss: 5323532795904.0000 - val_mean_squared_error: 5323532795904.0000\n",
            "Epoch 60/100\n",
            "\u001b[1m28/28\u001b[0m \u001b[32m━━━━━━━━━━━━━━━━━━━━\u001b[0m\u001b[37m\u001b[0m \u001b[1m0s\u001b[0m 4ms/step - loss: 2753854177280.0000 - mean_squared_error: 2753854177280.0000 - val_loss: 5073495654400.0000 - val_mean_squared_error: 5073495654400.0000\n",
            "Epoch 61/100\n",
            "\u001b[1m28/28\u001b[0m \u001b[32m━━━━━━━━━━━━━━━━━━━━\u001b[0m\u001b[37m\u001b[0m \u001b[1m0s\u001b[0m 4ms/step - loss: 2991433711616.0000 - mean_squared_error: 2991433711616.0000 - val_loss: 5055000870912.0000 - val_mean_squared_error: 5055000870912.0000\n",
            "Epoch 62/100\n",
            "\u001b[1m28/28\u001b[0m \u001b[32m━━━━━━━━━━━━━━━━━━━━\u001b[0m\u001b[37m\u001b[0m \u001b[1m0s\u001b[0m 4ms/step - loss: 2960570974208.0000 - mean_squared_error: 2960570974208.0000 - val_loss: 5483264475136.0000 - val_mean_squared_error: 5483264475136.0000\n",
            "Epoch 63/100\n",
            "\u001b[1m28/28\u001b[0m \u001b[32m━━━━━━━━━━━━━━━━━━━━\u001b[0m\u001b[37m\u001b[0m \u001b[1m0s\u001b[0m 4ms/step - loss: 3028030849024.0000 - mean_squared_error: 3028030849024.0000 - val_loss: 5055998066688.0000 - val_mean_squared_error: 5055998066688.0000\n",
            "Epoch 64/100\n",
            "\u001b[1m28/28\u001b[0m \u001b[32m━━━━━━━━━━━━━━━━━━━━\u001b[0m\u001b[37m\u001b[0m \u001b[1m0s\u001b[0m 4ms/step - loss: 3445341290496.0000 - mean_squared_error: 3445341290496.0000 - val_loss: 5061819236352.0000 - val_mean_squared_error: 5061819236352.0000\n",
            "Epoch 65/100\n",
            "\u001b[1m28/28\u001b[0m \u001b[32m━━━━━━━━━━━━━━━━━━━━\u001b[0m\u001b[37m\u001b[0m \u001b[1m0s\u001b[0m 4ms/step - loss: 2998354051072.0000 - mean_squared_error: 2998354051072.0000 - val_loss: 5152143572992.0000 - val_mean_squared_error: 5152143572992.0000\n",
            "Epoch 66/100\n",
            "\u001b[1m28/28\u001b[0m \u001b[32m━━━━━━━━━━━━━━━━━━━━\u001b[0m\u001b[37m\u001b[0m \u001b[1m0s\u001b[0m 4ms/step - loss: 3204441964544.0000 - mean_squared_error: 3204441964544.0000 - val_loss: 5091813752832.0000 - val_mean_squared_error: 5091813752832.0000\n",
            "Epoch 67/100\n",
            "\u001b[1m28/28\u001b[0m \u001b[32m━━━━━━━━━━━━━━━━━━━━\u001b[0m\u001b[37m\u001b[0m \u001b[1m0s\u001b[0m 4ms/step - loss: 3075069706240.0000 - mean_squared_error: 3075069706240.0000 - val_loss: 5137381720064.0000 - val_mean_squared_error: 5137381720064.0000\n",
            "Epoch 68/100\n",
            "\u001b[1m28/28\u001b[0m \u001b[32m━━━━━━━━━━━━━━━━━━━━\u001b[0m\u001b[37m\u001b[0m \u001b[1m0s\u001b[0m 4ms/step - loss: 3370796711936.0000 - mean_squared_error: 3370796711936.0000 - val_loss: 5301265235968.0000 - val_mean_squared_error: 5301265235968.0000\n",
            "Epoch 69/100\n",
            "\u001b[1m28/28\u001b[0m \u001b[32m━━━━━━━━━━━━━━━━━━━━\u001b[0m\u001b[37m\u001b[0m \u001b[1m0s\u001b[0m 4ms/step - loss: 2823271219200.0000 - mean_squared_error: 2823271219200.0000 - val_loss: 5355768643584.0000 - val_mean_squared_error: 5355768643584.0000\n",
            "Epoch 70/100\n",
            "\u001b[1m28/28\u001b[0m \u001b[32m━━━━━━━━━━━━━━━━━━━━\u001b[0m\u001b[37m\u001b[0m \u001b[1m0s\u001b[0m 5ms/step - loss: 3349381644288.0000 - mean_squared_error: 3349381644288.0000 - val_loss: 5405269819392.0000 - val_mean_squared_error: 5405269819392.0000\n",
            "Epoch 71/100\n",
            "\u001b[1m28/28\u001b[0m \u001b[32m━━━━━━━━━━━━━━━━━━━━\u001b[0m\u001b[37m\u001b[0m \u001b[1m0s\u001b[0m 4ms/step - loss: 3224414715904.0000 - mean_squared_error: 3224414715904.0000 - val_loss: 5147689746432.0000 - val_mean_squared_error: 5147689746432.0000\n",
            "Epoch 72/100\n",
            "\u001b[1m28/28\u001b[0m \u001b[32m━━━━━━━━━━━━━━━━━━━━\u001b[0m\u001b[37m\u001b[0m \u001b[1m0s\u001b[0m 5ms/step - loss: 2713255936000.0000 - mean_squared_error: 2713255936000.0000 - val_loss: 5068417400832.0000 - val_mean_squared_error: 5068417400832.0000\n",
            "Epoch 73/100\n",
            "\u001b[1m28/28\u001b[0m \u001b[32m━━━━━━━━━━━━━━━━━━━━\u001b[0m\u001b[37m\u001b[0m \u001b[1m0s\u001b[0m 4ms/step - loss: 3339388452864.0000 - mean_squared_error: 3339388452864.0000 - val_loss: 5220393811968.0000 - val_mean_squared_error: 5220393811968.0000\n",
            "Epoch 74/100\n",
            "\u001b[1m28/28\u001b[0m \u001b[32m━━━━━━━━━━━━━━━━━━━━\u001b[0m\u001b[37m\u001b[0m \u001b[1m0s\u001b[0m 4ms/step - loss: 2856847933440.0000 - mean_squared_error: 2856847933440.0000 - val_loss: 5522779013120.0000 - val_mean_squared_error: 5522779013120.0000\n",
            "Epoch 75/100\n",
            "\u001b[1m28/28\u001b[0m \u001b[32m━━━━━━━━━━━━━━━━━━━━\u001b[0m\u001b[37m\u001b[0m \u001b[1m0s\u001b[0m 5ms/step - loss: 2568703442944.0000 - mean_squared_error: 2568703442944.0000 - val_loss: 5054594547712.0000 - val_mean_squared_error: 5054594547712.0000\n",
            "Epoch 76/100\n",
            "\u001b[1m28/28\u001b[0m \u001b[32m━━━━━━━━━━━━━━━━━━━━\u001b[0m\u001b[37m\u001b[0m \u001b[1m0s\u001b[0m 4ms/step - loss: 2970103054336.0000 - mean_squared_error: 2970103054336.0000 - val_loss: 5071546351616.0000 - val_mean_squared_error: 5071546351616.0000\n",
            "Epoch 77/100\n",
            "\u001b[1m28/28\u001b[0m \u001b[32m━━━━━━━━━━━━━━━━━━━━\u001b[0m\u001b[37m\u001b[0m \u001b[1m0s\u001b[0m 4ms/step - loss: 2975100043264.0000 - mean_squared_error: 2975100043264.0000 - val_loss: 5215908528128.0000 - val_mean_squared_error: 5215908528128.0000\n",
            "Epoch 78/100\n",
            "\u001b[1m28/28\u001b[0m \u001b[32m━━━━━━━━━━━━━━━━━━━━\u001b[0m\u001b[37m\u001b[0m \u001b[1m0s\u001b[0m 4ms/step - loss: 3041954627584.0000 - mean_squared_error: 3041954627584.0000 - val_loss: 5181038133248.0000 - val_mean_squared_error: 5181038133248.0000\n",
            "Epoch 79/100\n",
            "\u001b[1m28/28\u001b[0m \u001b[32m━━━━━━━━━━━━━━━━━━━━\u001b[0m\u001b[37m\u001b[0m \u001b[1m0s\u001b[0m 4ms/step - loss: 3133055959040.0000 - mean_squared_error: 3133055959040.0000 - val_loss: 5505735983104.0000 - val_mean_squared_error: 5505735983104.0000\n",
            "Epoch 80/100\n",
            "\u001b[1m28/28\u001b[0m \u001b[32m━━━━━━━━━━━━━━━━━━━━\u001b[0m\u001b[37m\u001b[0m \u001b[1m0s\u001b[0m 6ms/step - loss: 2601710256128.0000 - mean_squared_error: 2601710256128.0000 - val_loss: 5061934579712.0000 - val_mean_squared_error: 5061934579712.0000\n",
            "Epoch 81/100\n",
            "\u001b[1m28/28\u001b[0m \u001b[32m━━━━━━━━━━━━━━━━━━━━\u001b[0m\u001b[37m\u001b[0m \u001b[1m0s\u001b[0m 5ms/step - loss: 2996540276736.0000 - mean_squared_error: 2996540276736.0000 - val_loss: 5828213473280.0000 - val_mean_squared_error: 5828213473280.0000\n",
            "Epoch 82/100\n",
            "\u001b[1m28/28\u001b[0m \u001b[32m━━━━━━━━━━━━━━━━━━━━\u001b[0m\u001b[37m\u001b[0m \u001b[1m0s\u001b[0m 5ms/step - loss: 2723253583872.0000 - mean_squared_error: 2723253583872.0000 - val_loss: 5106861867008.0000 - val_mean_squared_error: 5106861867008.0000\n",
            "Epoch 83/100\n",
            "\u001b[1m28/28\u001b[0m \u001b[32m━━━━━━━━━━━━━━━━━━━━\u001b[0m\u001b[37m\u001b[0m \u001b[1m0s\u001b[0m 5ms/step - loss: 2777209110528.0000 - mean_squared_error: 2777209110528.0000 - val_loss: 5274384465920.0000 - val_mean_squared_error: 5274384465920.0000\n",
            "Epoch 84/100\n",
            "\u001b[1m28/28\u001b[0m \u001b[32m━━━━━━━━━━━━━━━━━━━━\u001b[0m\u001b[37m\u001b[0m \u001b[1m0s\u001b[0m 5ms/step - loss: 3159628972032.0000 - mean_squared_error: 3159628972032.0000 - val_loss: 5198667317248.0000 - val_mean_squared_error: 5198667317248.0000\n",
            "Epoch 85/100\n",
            "\u001b[1m28/28\u001b[0m \u001b[32m━━━━━━━━━━━━━━━━━━━━\u001b[0m\u001b[37m\u001b[0m \u001b[1m0s\u001b[0m 5ms/step - loss: 2882408284160.0000 - mean_squared_error: 2882408284160.0000 - val_loss: 5054802690048.0000 - val_mean_squared_error: 5054802690048.0000\n",
            "Epoch 86/100\n",
            "\u001b[1m28/28\u001b[0m \u001b[32m━━━━━━━━━━━━━━━━━━━━\u001b[0m\u001b[37m\u001b[0m \u001b[1m0s\u001b[0m 5ms/step - loss: 3028846903296.0000 - mean_squared_error: 3028846903296.0000 - val_loss: 5125942280192.0000 - val_mean_squared_error: 5125942280192.0000\n",
            "Epoch 87/100\n",
            "\u001b[1m28/28\u001b[0m \u001b[32m━━━━━━━━━━━━━━━━━━━━\u001b[0m\u001b[37m\u001b[0m \u001b[1m0s\u001b[0m 5ms/step - loss: 2862450212864.0000 - mean_squared_error: 2862450212864.0000 - val_loss: 5075721781248.0000 - val_mean_squared_error: 5075721781248.0000\n",
            "Epoch 88/100\n",
            "\u001b[1m28/28\u001b[0m \u001b[32m━━━━━━━━━━━━━━━━━━━━\u001b[0m\u001b[37m\u001b[0m \u001b[1m0s\u001b[0m 6ms/step - loss: 3194119520256.0000 - mean_squared_error: 3194119520256.0000 - val_loss: 5161811443712.0000 - val_mean_squared_error: 5161811443712.0000\n",
            "Epoch 89/100\n",
            "\u001b[1m28/28\u001b[0m \u001b[32m━━━━━━━━━━━━━━━━━━━━\u001b[0m\u001b[37m\u001b[0m \u001b[1m0s\u001b[0m 5ms/step - loss: 3377582833664.0000 - mean_squared_error: 3377582833664.0000 - val_loss: 5158802554880.0000 - val_mean_squared_error: 5158802554880.0000\n",
            "Epoch 90/100\n",
            "\u001b[1m28/28\u001b[0m \u001b[32m━━━━━━━━━━━━━━━━━━━━\u001b[0m\u001b[37m\u001b[0m \u001b[1m0s\u001b[0m 5ms/step - loss: 2938630045696.0000 - mean_squared_error: 2938630045696.0000 - val_loss: 5323072471040.0000 - val_mean_squared_error: 5323072471040.0000\n",
            "Epoch 91/100\n",
            "\u001b[1m28/28\u001b[0m \u001b[32m━━━━━━━━━━━━━━━━━━━━\u001b[0m\u001b[37m\u001b[0m \u001b[1m0s\u001b[0m 5ms/step - loss: 3588665114624.0000 - mean_squared_error: 3588665114624.0000 - val_loss: 5086684643328.0000 - val_mean_squared_error: 5086684643328.0000\n",
            "Epoch 92/100\n",
            "\u001b[1m28/28\u001b[0m \u001b[32m━━━━━━━━━━━━━━━━━━━━\u001b[0m\u001b[37m\u001b[0m \u001b[1m0s\u001b[0m 4ms/step - loss: 2975533105152.0000 - mean_squared_error: 2975533105152.0000 - val_loss: 5516379553792.0000 - val_mean_squared_error: 5516379553792.0000\n",
            "Epoch 93/100\n",
            "\u001b[1m28/28\u001b[0m \u001b[32m━━━━━━━━━━━━━━━━━━━━\u001b[0m\u001b[37m\u001b[0m \u001b[1m0s\u001b[0m 5ms/step - loss: 3018758029312.0000 - mean_squared_error: 3018758029312.0000 - val_loss: 5112951996416.0000 - val_mean_squared_error: 5112951996416.0000\n",
            "Epoch 94/100\n",
            "\u001b[1m28/28\u001b[0m \u001b[32m━━━━━━━━━━━━━━━━━━━━\u001b[0m\u001b[37m\u001b[0m \u001b[1m0s\u001b[0m 6ms/step - loss: 3120897720320.0000 - mean_squared_error: 3120897720320.0000 - val_loss: 5263460401152.0000 - val_mean_squared_error: 5263460401152.0000\n",
            "Epoch 95/100\n",
            "\u001b[1m28/28\u001b[0m \u001b[32m━━━━━━━━━━━━━━━━━━━━\u001b[0m\u001b[37m\u001b[0m \u001b[1m0s\u001b[0m 5ms/step - loss: 2567077888000.0000 - mean_squared_error: 2567077888000.0000 - val_loss: 5715426541568.0000 - val_mean_squared_error: 5715426541568.0000\n",
            "Epoch 96/100\n",
            "\u001b[1m28/28\u001b[0m \u001b[32m━━━━━━━━━━━━━━━━━━━━\u001b[0m\u001b[37m\u001b[0m \u001b[1m0s\u001b[0m 5ms/step - loss: 3127848730624.0000 - mean_squared_error: 3127848730624.0000 - val_loss: 5147174895616.0000 - val_mean_squared_error: 5147174895616.0000\n",
            "Epoch 97/100\n",
            "\u001b[1m28/28\u001b[0m \u001b[32m━━━━━━━━━━━━━━━━━━━━\u001b[0m\u001b[37m\u001b[0m \u001b[1m0s\u001b[0m 8ms/step - loss: 2998195716096.0000 - mean_squared_error: 2998195716096.0000 - val_loss: 5122617769984.0000 - val_mean_squared_error: 5122617769984.0000\n",
            "Epoch 98/100\n",
            "\u001b[1m28/28\u001b[0m \u001b[32m━━━━━━━━━━━━━━━━━━━━\u001b[0m\u001b[37m\u001b[0m \u001b[1m0s\u001b[0m 6ms/step - loss: 2822356336640.0000 - mean_squared_error: 2822356336640.0000 - val_loss: 5232977248256.0000 - val_mean_squared_error: 5232977248256.0000\n",
            "Epoch 99/100\n",
            "\u001b[1m28/28\u001b[0m \u001b[32m━━━━━━━━━━━━━━━━━━━━\u001b[0m\u001b[37m\u001b[0m \u001b[1m0s\u001b[0m 7ms/step - loss: 3428386340864.0000 - mean_squared_error: 3428386340864.0000 - val_loss: 5073444274176.0000 - val_mean_squared_error: 5073444274176.0000\n",
            "Epoch 100/100\n",
            "\u001b[1m28/28\u001b[0m \u001b[32m━━━━━━━━━━━━━━━━━━━━\u001b[0m\u001b[37m\u001b[0m \u001b[1m0s\u001b[0m 7ms/step - loss: 3359197888512.0000 - mean_squared_error: 3359197888512.0000 - val_loss: 5270786277376.0000 - val_mean_squared_error: 5270786277376.0000\n"
          ]
        }
      ]
    }
  ]
}