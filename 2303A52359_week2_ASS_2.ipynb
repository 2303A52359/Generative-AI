{
  "nbformat": 4,
  "nbformat_minor": 0,
  "metadata": {
    "colab": {
      "provenance": [],
      "authorship_tag": "ABX9TyPFna3L3QhwgV0QbyDxbU23",
      "include_colab_link": true
    },
    "kernelspec": {
      "name": "python3",
      "display_name": "Python 3"
    },
    "language_info": {
      "name": "python"
    }
  },
  "cells": [
    {
      "cell_type": "markdown",
      "metadata": {
        "id": "view-in-github",
        "colab_type": "text"
      },
      "source": [
        "<a href=\"https://colab.research.google.com/github/2303A52359/Generative-AI/blob/main/2303A52359_week2_ASS_2.ipynb\" target=\"_parent\"><img src=\"https://colab.research.google.com/assets/colab-badge.svg\" alt=\"Open In Colab\"/></a>"
      ]
    },
    {
      "cell_type": "markdown",
      "source": [
        "Question-1"
      ],
      "metadata": {
        "id": "gOhtczVrPvud"
      }
    },
    {
      "cell_type": "code",
      "source": [
        "from scipy.optimize import linprog\n",
        "\n",
        "# Coefficients for the objective function (maximize 6x + 5y)\n",
        "# Since linprog performs minimization, we use negative values for maximization\n",
        "c = [-6, -5]\n",
        "\n",
        "# Coefficients for the constraints\n",
        "# The first constraint: x + y <= 5\n",
        "# The second constraint: 3x + 2y <= 12\n",
        "A = [[1, 1], [3, 2]]\n",
        "\n",
        "# Right-hand side of the constraints\n",
        "b = [5, 12]\n",
        "\n",
        "# Bounds for x and y (both must be >= 0)\n",
        "x_bounds = (0, None)\n",
        "y_bounds = (0, None)\n",
        "\n",
        "# Solve the linear programming problem\n",
        "result = linprog(c, A_ub=A, b_ub=b, bounds=[x_bounds, y_bounds], method='highs')\n",
        "\n",
        "# Print the result\n",
        "if result.success:\n",
        "    print(f\"Optimal number of units of A (x): {result.x[0]}\")\n",
        "    print(f\"Optimal number of units of B (y): {result.x[1]}\")\n",
        "    print(f\"Maximum profit: Rs {-result.fun}\")\n",
        "else:\n",
        "    print(\"No solution found.\")\n"
      ],
      "metadata": {
        "colab": {
          "base_uri": "https://localhost:8080/"
        },
        "id": "FqvOmuBxPw0C",
        "outputId": "8bd3dbe3-2efd-431b-f011-d04e643decfb"
      },
      "execution_count": 1,
      "outputs": [
        {
          "output_type": "stream",
          "name": "stdout",
          "text": [
            "Optimal number of units of A (x): 2.0\n",
            "Optimal number of units of B (y): 3.0\n",
            "Maximum profit: Rs 27.0\n"
          ]
        }
      ]
    },
    {
      "cell_type": "markdown",
      "source": [
        "Question-2"
      ],
      "metadata": {
        "id": "IOI-Eq8DP-Qk"
      }
    },
    {
      "cell_type": "code",
      "source": [
        "from scipy.optimize import linprog\n",
        "\n",
        "# Define the problem parameters\n",
        "# Objective function coefficients (negative for maximization)\n",
        "profit_per_hectare = [-50, -120]  # Wheat, Barley\n",
        "\n",
        "# Inequality constraints matrix\n",
        "constraints = [\n",
        "    [7000, 2000],  # Cost constraint\n",
        "    [10, 30],      # Man-days constraint\n",
        "    [1, 1]         # Land constraint\n",
        "]\n",
        "\n",
        "# Right-hand side of the inequality constraints\n",
        "bounds = [700000, 1200, 110]\n",
        "\n",
        "# Variable bounds (non-negative land allocation for each crop)\n",
        "x_bounds = (0, None)  # Wheat\n",
        "y_bounds = (0, None)  # Barley\n",
        "\n",
        "# Solve the linear programming problem\n",
        "result = linprog(\n",
        "    c=profit_per_hectare,\n",
        "    A_ub=constraints,\n",
        "    b_ub=bounds,\n",
        "    bounds=[x_bounds, y_bounds],\n",
        "    method='highs'\n",
        ")\n",
        "\n",
        "# Extract the results\n",
        "if result.success:\n",
        "    optimal_wheat = result.x[0]\n",
        "    optimal_barley = result.x[1]\n",
        "    optimal_profit = -result.fun  # Convert back to maximization\n",
        "\n",
        "    print(\"Optimal Solution:\")\n",
        "    print(f\"Wheat: {optimal_wheat:.2f} hectares\")\n",
        "    print(f\"Barley: {optimal_barley:.2f} hectares\")\n",
        "    print(f\"Maximum Profit: Rs. {optimal_profit:.2f}\")\n",
        "else:\n",
        "    print(\"Optimization failed:\", result.message)"
      ],
      "metadata": {
        "colab": {
          "base_uri": "https://localhost:8080/"
        },
        "id": "4FOa6SY4QJQU",
        "outputId": "04e1fb5b-f5fa-4a0a-eabd-ac635aae444a"
      },
      "execution_count": 2,
      "outputs": [
        {
          "output_type": "stream",
          "name": "stdout",
          "text": [
            "Optimal Solution:\n",
            "Wheat: 97.89 hectares\n",
            "Barley: 7.37 hectares\n",
            "Maximum Profit: Rs. 5778.95\n"
          ]
        }
      ]
    }
  ]
}