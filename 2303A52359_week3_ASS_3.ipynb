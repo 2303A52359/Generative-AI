{
  "nbformat": 4,
  "nbformat_minor": 0,
  "metadata": {
    "colab": {
      "provenance": [],
      "authorship_tag": "ABX9TyO323OtifUO56pG8aPW29IH",
      "include_colab_link": true
    },
    "kernelspec": {
      "name": "python3",
      "display_name": "Python 3"
    },
    "language_info": {
      "name": "python"
    }
  },
  "cells": [
    {
      "cell_type": "markdown",
      "metadata": {
        "id": "view-in-github",
        "colab_type": "text"
      },
      "source": [
        "<a href=\"https://colab.research.google.com/github/2303A52359/Generative-AI/blob/main/2303A52359_week3_ASS_3.ipynb\" target=\"_parent\"><img src=\"https://colab.research.google.com/assets/colab-badge.svg\" alt=\"Open In Colab\"/></a>"
      ]
    },
    {
      "cell_type": "markdown",
      "source": [
        "1.Write Python code without using any libraries to find the value of x at which the\n",
        "function f(x) shown in equation (1) has minimum value. Consider Gradient Descent Algorithm.\n",
        "f (x) = 5x4 + 3x2 + 10\n"
      ],
      "metadata": {
        "id": "CfeaQsCsEEck"
      }
    },
    {
      "cell_type": "code",
      "source": [
        "def gradient_descent_1d(alpha=0.01, epsilon=1e-6, max_iter=10000):\n",
        "    def f_prime(x):\n",
        "        return 20 * x**3 + 6 * x  # Derivative of f(x)\n",
        "\n",
        "    x = 0.0  # Initial guess\n",
        "    for _ in range(max_iter):\n",
        "        grad = f_prime(x)\n",
        "        if abs(grad) < epsilon:\n",
        "            break\n",
        "        x -= alpha * grad\n",
        "    return x\n",
        "\n",
        "x_min = gradient_descent_1d()\n",
        "print(f\"Minimum value of f(x) occurs at x = {x_min}\")"
      ],
      "metadata": {
        "colab": {
          "base_uri": "https://localhost:8080/"
        },
        "id": "-zgax6EWEHoE",
        "outputId": "53a0ecd6-58bb-4f7b-f2f3-6f46ba21e088"
      },
      "execution_count": null,
      "outputs": [
        {
          "output_type": "stream",
          "name": "stdout",
          "text": [
            "Minimum value of f(x) occurs at x = 0.0\n"
          ]
        }
      ]
    },
    {
      "cell_type": "markdown",
      "source": [
        "2.write Python code without using any libraries to find the value of x and y at which the\n",
        "function g(x,y) shown in equation (2) has minimum value. Consider Gradient Descent Algorithm.\n",
        "f (x) = 3x2 + 5e−y + 10\n"
      ],
      "metadata": {
        "id": "c5xdvMCdESUC"
      }
    },
    {
      "cell_type": "code",
      "source": [
        "def gradient_descent_2d(alpha=0.01, epsilon=1e-6, max_iter=10000):\n",
        "    def f_prime_x(x):\n",
        "        return 6 * x  # Partial derivative with respect to x\n",
        "\n",
        "    def f_prime_y(y):\n",
        "        return -5 * (2.718281828459045 ** (-y))  # Partial derivative with respect to y\n",
        "\n",
        "    x, y = 0.0, 0.0  # Initial guesses\n",
        "    for _ in range(max_iter):\n",
        "        grad_x = f_prime_x(x)\n",
        "        grad_y = f_prime_y(y)\n",
        "        if abs(grad_x) < epsilon and abs(grad_y) < epsilon:\n",
        "            break\n",
        "        x -= alpha * grad_x\n",
        "        y -= alpha * grad_y\n",
        "    return x, y\n",
        "\n",
        "x_min, y_min = gradient_descent_2d()\n",
        "print(f\"Minimum value of g(x, y) occurs at x = {x_min}, y = {y_min}\")\n"
      ],
      "metadata": {
        "colab": {
          "base_uri": "https://localhost:8080/"
        },
        "id": "i8RxlQ1iEV1D",
        "outputId": "549f5a93-9a57-42c1-a06f-10ce20d69147"
      },
      "execution_count": null,
      "outputs": [
        {
          "output_type": "stream",
          "name": "stdout",
          "text": [
            "Minimum value of g(x, y) occurs at x = 0.0, y = 6.216917124174048\n"
          ]
        }
      ]
    },
    {
      "cell_type": "markdown",
      "source": [
        "3.Write Python code without using any libraries to find the value of x at which the\n",
        "sigmoid function z(x) shown in equation (3) has minimum value. Consider Gradient Descent\n",
        "Algorithm.\n",
        "z(x) = 1\n",
        "1 + e−x"
      ],
      "metadata": {
        "id": "k_ubth4SFCqT"
      }
    },
    {
      "cell_type": "code",
      "source": [
        "def gradient_descent_sigmoid(alpha=0.01, epsilon=1e-6, max_iter=10000):\n",
        "    def z_prime(x):\n",
        "        exp_neg_x = 2.718281828459045 ** (-x)\n",
        "        return -exp_neg_x / ((1 + exp_neg_x) ** 2)  # Derivative of sigmoid function\n",
        "\n",
        "    x = 0.0  # Initial guess\n",
        "    for _ in range(max_iter):\n",
        "        grad = z_prime(x)\n",
        "        if abs(grad) < epsilon:\n",
        "            break\n",
        "        x -= alpha * grad\n",
        "    return x\n",
        "\n",
        "x_min_sigmoid = gradient_descent_sigmoid()\n",
        "print(f\"Minimum value of z(x) occurs at x = {x_min_sigmoid}\")\n",
        "\n"
      ],
      "metadata": {
        "colab": {
          "base_uri": "https://localhost:8080/"
        },
        "id": "P0TCwMRUFGgN",
        "outputId": "16f06f66-2b6a-42fc-a937-d39888320eaf"
      },
      "execution_count": null,
      "outputs": [
        {
          "output_type": "stream",
          "name": "stdout",
          "text": [
            "Minimum value of z(x) occurs at x = 4.510913300793877\n"
          ]
        }
      ]
    },
    {
      "cell_type": "markdown",
      "source": [
        "4.Write Python code without using any libraries to find the value of optimal values of\n",
        "model parameters M and C such that the model’s Square Error Value shown in equation 4 will\n",
        "be minimum. It means model gives output close to expected output as shown in Figure 1\n",
        "![q4.png](data:image/png;base64,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)"
      ],
      "metadata": {
        "id": "olfGjaJYFK2D"
      }
    },
    {
      "cell_type": "code",
      "source": [
        "def gradient_descent_linear(alpha=0.01, epsilon=1e-6, max_iter=10000):\n",
        "    expected_outputs = [1, 2, 3, 4, 5]  # Example expected outputs\n",
        "    inputs = [1, 2, 3, 4, 5]  # Example inputs\n",
        "\n",
        "    def predicted_output(m, c, x):\n",
        "        return m * x + c\n",
        "\n",
        "    def se_grad_m(m, c):\n",
        "        return -2 * sum((e - predicted_output(m, c, x)) * x for e, x in zip(expected_outputs, inputs))\n",
        "\n",
        "    def se_grad_c(m, c):\n",
        "        return -2 * sum(e - predicted_output(m, c, x) for e, x in zip(expected_outputs, inputs))\n",
        "\n",
        "    m, c = 0.0, 0.0  # Initial guesses\n",
        "    for _ in range(max_iter):\n",
        "        grad_m = se_grad_m(m, c)\n",
        "        grad_c = se_grad_c(m, c)\n",
        "        if abs(grad_m) < epsilon and abs(grad_c) < epsilon:\n",
        "            break\n",
        "        m -= alpha * grad_m\n",
        "        c -= alpha * grad_c\n",
        "    return m, c\n",
        "\n",
        "m_opt, c_opt = gradient_descent_linear()\n",
        "print(f\"Optimal values are M = {m_opt}, C = {c_opt}\")"
      ],
      "metadata": {
        "colab": {
          "base_uri": "https://localhost:8080/"
        },
        "id": "qadLQ27QFONE",
        "outputId": "7cf0b7f0-4d47-4a2e-a81d-5a6e4bdfbea6"
      },
      "execution_count": null,
      "outputs": [
        {
          "output_type": "stream",
          "name": "stdout",
          "text": [
            "Optimal values are M = 0.9999998375829822, C = 5.863769691679814e-07\n"
          ]
        }
      ]
    }
  ]
}